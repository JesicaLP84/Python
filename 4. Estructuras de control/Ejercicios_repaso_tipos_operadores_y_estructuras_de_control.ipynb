{
 "cells": [
  {
   "attachments": {},
   "cell_type": "markdown",
   "id": "960cea4e",
   "metadata": {},
   "source": [
    "# Ejercicios repaso tipos y operadores\n",
    "## Ejercicio 1\n",
    "\n",
    "Calcular el área y el volumen de un cilindro de 2 m de radio y 3 m de altura. Se puede utilizar $\\pi$ como una variable más escribiendo *math.pi*."
   ]
  },
  {
   "cell_type": "code",
   "execution_count": 2,
   "id": "27661d47",
   "metadata": {},
   "outputs": [
    {
     "name": "stdout",
     "output_type": "stream",
     "text": [
      "37.69911184307752\n"
     ]
    }
   ],
   "source": [
    "# Volumen Cilindro = π*r2*h\n",
    "import math\n",
    "r = 2\n",
    "h = 3\n",
    "cylinder_volume=math.pi*r**2*h\n",
    "print(cylinder_volume)\n"
   ]
  },
  {
   "attachments": {},
   "cell_type": "markdown",
   "id": "7cfc5918",
   "metadata": {},
   "source": [
    "## Ejercicio 2\n",
    "Resolver la ecuación $$7x^2+21x-28 = 0$$ y mostrar por pantalla el resultado."
   ]
  },
  {
   "cell_type": "code",
   "execution_count": null,
   "id": "0ebeb977",
   "metadata": {},
   "outputs": [],
   "source": [
    "#7x^2+21x-28 = 0\n",
    "a = 7**2\n",
    "b = 21\n",
    "c = 28"
   ]
  },
  {
   "attachments": {},
   "cell_type": "markdown",
   "id": "532ccd61",
   "metadata": {},
   "source": [
    "## Ejercicio 3\n",
    "Mostrar por pantalla los números del 0 al 10 junto con una anotación que diga si el número es par o impar.\n"
   ]
  },
  {
   "cell_type": "code",
   "execution_count": 2,
   "id": "c466d234",
   "metadata": {},
   "outputs": [
    {
     "name": "stdout",
     "output_type": "stream",
     "text": [
      "0 : The number is even\n",
      "1 : The number is odd\n",
      "2 : The number is even\n",
      "3 : The number is odd\n",
      "4 : The number is even\n",
      "5 : The number is odd\n",
      "6 : The number is even\n",
      "7 : The number is odd\n",
      "8 : The number is even\n",
      "9 : The number is odd\n",
      "10 : The number is even\n"
     ]
    }
   ],
   "source": [
    "number = 0\n",
    "while number <= 10:\n",
    "    if number % 2 == 0:\n",
    "        print(number, \": The number is even\")\n",
    "    elif number % 2 != 0:\n",
    "        print(number, \": The number is odd\")\n",
    "    number = number +1"
   ]
  },
  {
   "attachments": {},
   "cell_type": "markdown",
   "id": "a48078db",
   "metadata": {},
   "source": [
    "## Ejercicio 4\n",
    "Mostrar por pantalla las tablas de multiplicar del 7, el 8 y el 9. El formato debe ser \"7x1 = 7\""
   ]
  },
  {
   "cell_type": "code",
   "execution_count": 3,
   "id": "42cc60db",
   "metadata": {},
   "outputs": [
    {
     "name": "stdout",
     "output_type": "stream",
     "text": [
      "Multiplication table of the 7:\n",
      "7 x 1 = 7\n",
      "7 x 2 = 14\n",
      "7 x 3 = 21\n",
      "7 x 4 = 28\n",
      "7 x 5 = 35\n",
      "7 x 6 = 42\n",
      "7 x 7 = 49\n",
      "7 x 8 = 56\n",
      "7 x 9 = 63\n",
      "7 x 10 = 70\n",
      "\n",
      "Multiplication table of the 8:\n",
      "8 x 1 = 8\n",
      "8 x 2 = 16\n",
      "8 x 3 = 24\n",
      "8 x 4 = 32\n",
      "8 x 5 = 40\n",
      "8 x 6 = 48\n",
      "8 x 7 = 56\n",
      "8 x 8 = 64\n",
      "8 x 9 = 72\n",
      "8 x 10 = 80\n",
      "\n",
      "Multiplication table of the 9:\n",
      "9 x 1 = 9\n",
      "9 x 2 = 18\n",
      "9 x 3 = 27\n",
      "9 x 4 = 36\n",
      "9 x 5 = 45\n",
      "9 x 6 = 54\n",
      "9 x 7 = 63\n",
      "9 x 8 = 72\n",
      "9 x 9 = 81\n",
      "9 x 10 = 90\n",
      "\n"
     ]
    }
   ],
   "source": [
    "for factor_one in range (7, 9 + 1):\n",
    "    print(f'Multiplication table of the {factor_one}:')\n",
    "    for factor_tow in range(1, 10 +1):\n",
    "        print(f'{factor_one} x {factor_tow} = {factor_one * factor_tow}')\n",
    "    print()\n"
   ]
  },
  {
   "attachments": {},
   "cell_type": "markdown",
   "id": "9141d66a",
   "metadata": {},
   "source": [
    "## Ejercicio 5\n",
    "Extraer el segundo y tercer elemento de lista y calcular su producto."
   ]
  },
  {
   "cell_type": "code",
   "execution_count": 4,
   "id": "90d5f784",
   "metadata": {},
   "outputs": [
    {
     "name": "stdout",
     "output_type": "stream",
     "text": [
      "750\n"
     ]
    }
   ],
   "source": [
    "list_number=[10,25,30,14,55,16]\n",
    "\n",
    "product = list_number[1] * list_number[2]\n",
    "print(product)\n"
   ]
  },
  {
   "attachments": {},
   "cell_type": "markdown",
   "id": "6e3b2e74",
   "metadata": {},
   "source": [
    "## Ejercicio 6\n",
    "Mostrar todos los elementos de la lista"
   ]
  },
  {
   "cell_type": "code",
   "execution_count": 12,
   "id": "9b6acc04",
   "metadata": {},
   "outputs": [
    {
     "name": "stdout",
     "output_type": "stream",
     "text": [
      "[10, 25, 30, 14, 55, 16]\n"
     ]
    }
   ],
   "source": [
    "print(list_number)"
   ]
  },
  {
   "attachments": {},
   "cell_type": "markdown",
   "id": "0501a56d",
   "metadata": {},
   "source": [
    "## Ejercicio 7\n",
    "Calcular la suma de los N primeros números pares"
   ]
  },
  {
   "cell_type": "code",
   "execution_count": 5,
   "id": "2ed8f524",
   "metadata": {},
   "outputs": [
    {
     "data": {
      "text/plain": [
       "70"
      ]
     },
     "execution_count": 5,
     "metadata": {},
     "output_type": "execute_result"
    }
   ],
   "source": [
    "list_number\n",
    "result = 0\n",
    "for i in list_number:\n",
    "    if not i % 2:\n",
    "        result += i\n",
    "result\n",
    "\n",
    "# number = int(input(\"Introduzca un numero par: \"))\n",
    "# print(\"La suma de los N primeros números \" + str(number)+ \" par es de \" +str((number * number)+ number))\n"
   ]
  },
  {
   "cell_type": "markdown",
   "id": "31e5e27f",
   "metadata": {},
   "source": [
    "## Ejercicio 8\n",
    "\n",
    "Calcular el máximo, el mínimo y la media de una lista de enteros."
   ]
  },
  {
   "cell_type": "code",
   "execution_count": 26,
   "id": "3b8f08ea",
   "metadata": {},
   "outputs": [
    {
     "name": "stdout",
     "output_type": "stream",
     "text": [
      "700\n",
      "14\n",
      "186.83333333333334\n"
     ]
    }
   ],
   "source": [
    "list_integers=[58,14,96,101,152,700]\n",
    "\n",
    "max_list = max(list_integers)\n",
    "print (max_list)\n",
    "min_list = min(list_integers)\n",
    "print(min_list)\n",
    "average_list = sum(list_integers)/len(list_integers)\n",
    "print(average_list)"
   ]
  },
  {
   "attachments": {},
   "cell_type": "markdown",
   "id": "652e251c",
   "metadata": {},
   "source": [
    "## Ejercicio 9\n",
    "Dado un número entero $n$, comprobar si el número es primo."
   ]
  },
  {
   "cell_type": "code",
   "execution_count": 8,
   "id": "17bde808",
   "metadata": {},
   "outputs": [
    {
     "name": "stdout",
     "output_type": "stream",
     "text": [
      "2 es divisible por: 1 - 2 - Finalizado\n",
      "El numero introducido si es PRIMO, tiene 2 divisores\n"
     ]
    }
   ],
   "source": [
    "number = int(input(\"Introduce un numero entero\")) #introduce el numero\n",
    "cont = 0 #solo puede valer 2 por lo que se indica cero para obtener este valor al hacer la division \n",
    "\n",
    "print(\"{0} es divisible por\".format(number), end=\": \")\n",
    "for n in range(1, number+1):\n",
    "    if number % n == 0:\n",
    "        print(n, end=\" - \")#elimina los saltos de nueva linea\n",
    "        cont +=1 #asignacion a contador un valor mas sumandole 1\n",
    "print(\"Finalizado\")\n",
    "\n",
    "if cont == 2:\n",
    "    print(\"El numero introducido si es PRIMO, tiene {0} divisores\".format(cont))\n",
    "else:\n",
    "    print(\"El numero ingresado no es primo, tiene {0} divisores\".format(cont))"
   ]
  },
  {
   "attachments": {},
   "cell_type": "markdown",
   "id": "465042b6",
   "metadata": {},
   "source": [
    "## Ejercicio 10\n",
    "Queremos crear una máquina que de el cambio de lo que han pagado a nuestros clientes. Supondremos que nuestros depósitos de billetes de cualquier tipo son ilimitados y que el máximo billete es de 50€. A partir del dinero entregado y el precio de la compra, sacaremos por pantalla el cambio óptimo."
   ]
  },
  {
   "cell_type": "code",
   "execution_count": 21,
   "id": "0049f738",
   "metadata": {},
   "outputs": [
    {
     "name": "stdout",
     "output_type": "stream",
     "text": [
      "60.0\n"
     ]
    }
   ],
   "source": [
    "importe_compra = float(input(\"Importe de la compra\"))\n",
    "billetes_ingresar = int(input(\"billete a ingresar\"))\n",
    "\n",
    "a,b,c,d = 5, 10, 20, 50\n",
    "\n",
    "billetes = [5,10,20,50]\n",
    "max_billetes = max(billetes)\n",
    "\n",
    "dinero_devolver = sum(billetes) - importe_compra\n",
    "\n",
    "print(dinero_devolver)\n",
    "\n",
    "\n",
    "precio_de_la_compra= int(input(\"Indique el total de la compra\"))\n",
    "dinero_entregado= int(input(\"Dinero entregado\"))\n",
    "i= 0\n",
    "resultado = precio_de_la_compra - dinero_entregado\n",
    "while i >= 50:\n",
    "    print(\"Ingrese un billete menor de 50€\")\n",
    "    if i == 0:\n",
    "        print(\"Cuenta Pagada\")\n",
    "    if i != 0:\n",
    "        print(\"el Resultado es:\", resultado)\n"
   ]
  },
  {
   "cell_type": "markdown",
   "id": "aa5d97a4",
   "metadata": {},
   "source": [
    "## Ejercicio 11\n",
    "\n",
    "Crear un módulo de validación de nombres de usuario. Las condciones de un nombre de usuario son las siguientes:\n",
    "\n",
    "+ Longitud mayor que 6 caracteres.\n",
    "+ Longitud menor que 13 caracteres\n",
    "+ El nombre de usuario debe ser alfanumérico.\n",
    "\n",
    "En caso de que el nombre de usuario sea válido se mostrará por pantalla \"Usuario válido\". En caso de encontrarnos con algún error. "
   ]
  },
  {
   "cell_type": "code",
   "execution_count": 36,
   "id": "90a74a73",
   "metadata": {},
   "outputs": [
    {
     "name": "stdout",
     "output_type": "stream",
     "text": [
      "Usario valido\n"
     ]
    }
   ],
   "source": [
    "name = input(\"Introduce el nombre de usuario\")\n",
    "\n",
    "if len(name) <=6:\n",
    "    print(\"El nombre de usuario tiene que tener mas de 6 caracteres\")\n",
    "elif len(name) >= 13:\n",
    "    print(\"El nombre de usuario tiene que tener menos de 13 caracteres\")\n",
    "elif not name.isalnum():\n",
    "    print(\"El nombre de usuario tiene que ser alfanumerico\")\n",
    "else:\n",
    "    print(\"Usuario valido\")\n",
    "\n",
    "name = input(\"Introduce de nuevo el nombre\")"
   ]
  },
  {
   "attachments": {},
   "cell_type": "markdown",
   "id": "bb4f9216",
   "metadata": {},
   "source": [
    "## Ejercicio 12\n",
    "\n",
    "Crear un módulo de validación de contraseñas. La contraseña debe cumplir los siguientes requisitos:\n",
    "\n",
    "+ La contraseña debe tener un mínimo de 8 caracteres.\n",
    "+ La contraseña debe contener mayúsculas, minúsculas, números y al menos un caracter no alfanumérico.\n",
    "+ La contraseña no debe tener espacios en blanco.\n",
    "\n",
    "Si la contraseña es válida se mostrará un mensaje por pantalla y en caso de no serlo se mostrarán los requisitos incumplidos."
   ]
  },
  {
   "cell_type": "code",
   "execution_count": 1,
   "id": "d9214bf8",
   "metadata": {},
   "outputs": [
    {
     "ename": "KeyboardInterrupt",
     "evalue": "Interrupted by user",
     "output_type": "error",
     "traceback": [
      "\u001b[1;31m---------------------------------------------------------------------------\u001b[0m",
      "\u001b[1;31mKeyboardInterrupt\u001b[0m                         Traceback (most recent call last)",
      "Cell \u001b[1;32mIn[1], line 1\u001b[0m\n\u001b[1;32m----> 1\u001b[0m validation_password \u001b[39m=\u001b[39m \u001b[39minput\u001b[39;49m(\u001b[39m\"\u001b[39;49m\u001b[39mEnter your password\u001b[39;49m\u001b[39m\"\u001b[39;49m)\n\u001b[0;32m      2\u001b[0m SpecialSym \u001b[39m=\u001b[39m[\u001b[39m'\u001b[39m\u001b[39m$\u001b[39m\u001b[39m'\u001b[39m, \u001b[39m'\u001b[39m\u001b[39m@\u001b[39m\u001b[39m'\u001b[39m, \u001b[39m'\u001b[39m\u001b[39m#\u001b[39m\u001b[39m'\u001b[39m, \u001b[39m'\u001b[39m\u001b[39m%\u001b[39m\u001b[39m'\u001b[39m, \u001b[39m'\u001b[39m\u001b[39m.\u001b[39m\u001b[39m'\u001b[39m, \u001b[39m'\u001b[39m\u001b[39m-\u001b[39m\u001b[39m'\u001b[39m, \u001b[39m'\u001b[39m\u001b[39m+\u001b[39m\u001b[39m'\u001b[39m, \u001b[39m'\u001b[39m\u001b[39m*\u001b[39m\u001b[39m'\u001b[39m, \u001b[39m'\u001b[39m\u001b[39m_\u001b[39m\u001b[39m'\u001b[39m, \u001b[39m'\u001b[39m\u001b[39m/\u001b[39m\u001b[39m'\u001b[39m] \u001b[39m#Caracteres Espaciales \u001b[39;00m\n\u001b[0;32m      5\u001b[0m \u001b[39mif\u001b[39;00m \u001b[39mlen\u001b[39m(validation_password) \u001b[39m<\u001b[39m \u001b[39m8\u001b[39m:\n",
      "File \u001b[1;32m~\\AppData\\Roaming\\Python\\Python311\\site-packages\\ipykernel\\kernelbase.py:1177\u001b[0m, in \u001b[0;36mKernel.raw_input\u001b[1;34m(self, prompt)\u001b[0m\n\u001b[0;32m   1173\u001b[0m \u001b[39mif\u001b[39;00m \u001b[39mnot\u001b[39;00m \u001b[39mself\u001b[39m\u001b[39m.\u001b[39m_allow_stdin:\n\u001b[0;32m   1174\u001b[0m     \u001b[39mraise\u001b[39;00m StdinNotImplementedError(\n\u001b[0;32m   1175\u001b[0m         \u001b[39m\"\u001b[39m\u001b[39mraw_input was called, but this frontend does not support input requests.\u001b[39m\u001b[39m\"\u001b[39m\n\u001b[0;32m   1176\u001b[0m     )\n\u001b[1;32m-> 1177\u001b[0m \u001b[39mreturn\u001b[39;00m \u001b[39mself\u001b[39;49m\u001b[39m.\u001b[39;49m_input_request(\n\u001b[0;32m   1178\u001b[0m     \u001b[39mstr\u001b[39;49m(prompt),\n\u001b[0;32m   1179\u001b[0m     \u001b[39mself\u001b[39;49m\u001b[39m.\u001b[39;49m_parent_ident[\u001b[39m\"\u001b[39;49m\u001b[39mshell\u001b[39;49m\u001b[39m\"\u001b[39;49m],\n\u001b[0;32m   1180\u001b[0m     \u001b[39mself\u001b[39;49m\u001b[39m.\u001b[39;49mget_parent(\u001b[39m\"\u001b[39;49m\u001b[39mshell\u001b[39;49m\u001b[39m\"\u001b[39;49m),\n\u001b[0;32m   1181\u001b[0m     password\u001b[39m=\u001b[39;49m\u001b[39mFalse\u001b[39;49;00m,\n\u001b[0;32m   1182\u001b[0m )\n",
      "File \u001b[1;32m~\\AppData\\Roaming\\Python\\Python311\\site-packages\\ipykernel\\kernelbase.py:1219\u001b[0m, in \u001b[0;36mKernel._input_request\u001b[1;34m(self, prompt, ident, parent, password)\u001b[0m\n\u001b[0;32m   1216\u001b[0m             \u001b[39mbreak\u001b[39;00m\n\u001b[0;32m   1217\u001b[0m \u001b[39mexcept\u001b[39;00m \u001b[39mKeyboardInterrupt\u001b[39;00m:\n\u001b[0;32m   1218\u001b[0m     \u001b[39m# re-raise KeyboardInterrupt, to truncate traceback\u001b[39;00m\n\u001b[1;32m-> 1219\u001b[0m     \u001b[39mraise\u001b[39;00m \u001b[39mKeyboardInterrupt\u001b[39;00m(\u001b[39m\"\u001b[39m\u001b[39mInterrupted by user\u001b[39m\u001b[39m\"\u001b[39m) \u001b[39mfrom\u001b[39;00m \u001b[39mNone\u001b[39m\n\u001b[0;32m   1220\u001b[0m \u001b[39mexcept\u001b[39;00m \u001b[39mException\u001b[39;00m:\n\u001b[0;32m   1221\u001b[0m     \u001b[39mself\u001b[39m\u001b[39m.\u001b[39mlog\u001b[39m.\u001b[39mwarning(\u001b[39m\"\u001b[39m\u001b[39mInvalid Message:\u001b[39m\u001b[39m\"\u001b[39m, exc_info\u001b[39m=\u001b[39m\u001b[39mTrue\u001b[39;00m)\n",
      "\u001b[1;31mKeyboardInterrupt\u001b[0m: Interrupted by user"
     ]
    }
   ],
   "source": [
    "validation_password = input(\"Enter your password\")\n",
    "SpecialSym =['$', '@', '#', '%', '.', '-', '+', '*', '_', '/'] #Caracteres Espaciales \n",
    "\n",
    "\n",
    "if len(validation_password) < 8:\n",
    "        print(\"The Password must be a minimum of 8 characteres\")\n",
    "if not any(char.isupper() for char in validation_password):\n",
    "        print('The password must contain uppercase')\n",
    "        val = False\n",
    "if not any(char.islower() for char in validation_password):\n",
    "        print('The password must contain lowercase')\n",
    "        val = False\n",
    "if not any(char.isdigit() for char in validation_password):\n",
    "        print('The password must contain numbers')\n",
    "        val = False\n",
    "if not any(char in SpecialSym for char in validation_password):\n",
    "        print('The password must contain at last one nonalphanumeric character')\n",
    "        val = False\n",
    "if not any(char.isspace for char in validation_password):\n",
    "        print('The password must not have blank spaces')\n",
    "        val = False\n",
    "else:\n",
    "    print('Password is valid')\n"
   ]
  },
  {
   "cell_type": "markdown",
   "id": "2c01ce00",
   "metadata": {},
   "source": [
    "## Ejercicio 13\n",
    "\n",
    "Crear un módulo de validación de DNI con expresiones regulares (*regex*). Las condiciones del DNI deben de ser las siguientes:\n",
    "+ El DNI debe de contener exactamente 9 caracteres.\n",
    "+ Los 8 primeros caracteres del DNI deben de ser números.\n",
    "+ El caracter final del DNI debe de ser una letra.\n",
    "\n",
    "Si el DNI es válido, se mostrará un mensaje por pantalla \"DNI Válido\". De lo contrario se mostrará un mensaje de error."
   ]
  },
  {
   "cell_type": "code",
   "execution_count": 10,
   "id": "44b21ad4",
   "metadata": {},
   "outputs": [
    {
     "name": "stdout",
     "output_type": "stream",
     "text": [
      "la cedula:156545L es valida\n"
     ]
    },
    {
     "data": {
      "text/plain": [
       "'true'"
      ]
     },
     "execution_count": 10,
     "metadata": {},
     "output_type": "execute_result"
    }
   ],
   "source": []
  },
  {
   "cell_type": "code",
   "execution_count": 6,
   "id": "90356dc6",
   "metadata": {},
   "outputs": [
    {
     "ename": "IndentationError",
     "evalue": "unexpected indent (184945746.py, line 14)",
     "output_type": "error",
     "traceback": [
      "\u001b[1;36m  Cell \u001b[1;32mIn[6], line 14\u001b[1;36m\u001b[0m\n\u001b[1;33m    and re.match(self.REGEXP, dni) is not None  # (2)\u001b[0m\n\u001b[1;37m    ^\u001b[0m\n\u001b[1;31mIndentationError\u001b[0m\u001b[1;31m:\u001b[0m unexpected indent\n"
     ]
    }
   ],
   "source": [
    "import re\n",
    "\n",
    "\n",
    "class Validaciones:\n",
    "    REGEXP = \"[0-9]{8}[A-Z]\"\n",
    "    DIGITO_CONTROL = \"TRWAGMYFPDXBNJZSQVHLCKE\"\n",
    "    # INVALIDOS = {\"00000000T\", \"00000001R\", \"99999999R\"}\n",
    "\n",
    "    def __init__(self):\n",
    "        pass\n",
    "\n",
    "    def validar_dni(self, dni: str) -> bool:\n",
    "        return dni not in self.INVALIDOS  #(1)\n",
    "        and re.match(self.REGEXP, dni) is not None  # (2)\n",
    "        and dni[8] == self.DIGITO_CONTROL[int(dni[0:8]) % 23] #(3)"
   ]
  },
  {
   "cell_type": "markdown",
   "id": "7ae4bec9",
   "metadata": {},
   "source": [
    "## Ejercicio 14\n",
    "Imprime un string con los caracteres de las posiciones en índices pares"
   ]
  },
  {
   "cell_type": "markdown",
   "id": "b3044b85",
   "metadata": {},
   "source": [
    "## Ejercicio 15\n",
    "Existiendo dos listas, devolver *True* si el primer y último elemento de las dos listas son iguales"
   ]
  },
  {
   "cell_type": "markdown",
   "id": "4f66c995",
   "metadata": {},
   "source": [
    "## Ejercicio 16\n",
    "Dado una lista devolver otra lista con los elementos que son divisibles entre 5"
   ]
  },
  {
   "cell_type": "markdown",
   "id": "38437c20",
   "metadata": {},
   "source": [
    "## Ejercicio 17\n",
    "Devolver *True* si el número recibido es un palíndromo"
   ]
  },
  {
   "cell_type": "markdown",
   "id": "325c8280",
   "metadata": {},
   "source": [
    "## Ejercicio 18\n",
    "Calcular el impuesto de cada producto según su precio\n",
    "+ De 0 hasta 10.000€ --> 10% impuesto\n",
    "+ De 10.001 hasta 24.999€ --> 15% impuesto\n",
    "+ A partir de 25.000€ --> 20% impuesto"
   ]
  }
 ],
 "metadata": {
  "kernelspec": {
   "display_name": "Python 3",
   "language": "python",
   "name": "python3"
  },
  "language_info": {
   "codemirror_mode": {
    "name": "ipython",
    "version": 3
   },
   "file_extension": ".py",
   "mimetype": "text/x-python",
   "name": "python",
   "nbconvert_exporter": "python",
   "pygments_lexer": "ipython3",
   "version": "3.11.0"
  },
  "vscode": {
   "interpreter": {
    "hash": "457ebbab75f7758647193ad21fb29327c32799ea86d603b890ff482faa44ec15"
   }
  }
 },
 "nbformat": 4,
 "nbformat_minor": 5
}
