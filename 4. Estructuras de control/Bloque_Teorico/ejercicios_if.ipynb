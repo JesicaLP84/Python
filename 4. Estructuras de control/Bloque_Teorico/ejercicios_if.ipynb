{
 "cells": [
  {
   "attachments": {},
   "cell_type": "markdown",
   "metadata": {},
   "source": [
    "Ejercicios con if\n",
    "• a = 10\n",
    "• b = 100"
   ]
  },
  {
   "cell_type": "code",
   "execution_count": 9,
   "metadata": {},
   "outputs": [
    {
     "name": "stdout",
     "output_type": "stream",
     "text": [
      "Es diferente a 10\n"
     ]
    }
   ],
   "source": [
    "#1. Defina una estructura de control que imprima por pantalla “Es igual a 10” si a es igual a 10 y si no imprima “Es diferente de 10”.\n",
    "a = int(input(\"Introduzca un numero del 1 al 100\"))\n",
    "if a == 10:\n",
    "    print(\"Es igual a 10\")\n",
    "else:\n",
    "    print(\"Es diferente a 10\")\n"
   ]
  },
  {
   "cell_type": "code",
   "execution_count": 37,
   "metadata": {},
   "outputs": [
    {
     "name": "stdout",
     "output_type": "stream",
     "text": [
      "Sólo a es igual a 10\n"
     ]
    }
   ],
   "source": [
    "#2. Defina una estructura de control que imprima “Todos son igual a 10” si a y b son iguales a 10; si no imprima “Sólo a es igual a 10” si a es igual a 10;\n",
    "# si no imprima “B es igual a 10” si b es igual a 10; si no imprima “Ninguno es igual a 10”.\n",
    "a = int(input(\"Introduzca un numero para a\"))\n",
    "b = int(input(\"Introduzca un numero para b\"))\n",
    "if a & b == 10:\n",
    "    print(\"Todos son igual a 10\")\n",
    "elif a != 10 & b == 10:\n",
    "    print(\"B es igual a 10\")\n",
    "elif b != 10 & a == 10:\n",
    "    print(\"Sólo a es igual a 10\")\n",
    "else:\n",
    "    print(\"Ninguno es igual a 10\")\n",
    "\n",
    "# Recuerda que en Python los operadores lógicos & y | no son válidos, se utilizan para realizar intersecciones, uniones, diferencias…\n",
    "\n",
    "# Respuesta correcta:\n",
    "\n",
    "# A == 10 and B == 10\n",
    "\n",
    "# A != 10 and B == 10\n",
    "\n",
    "# B != 10 and A == 10\n",
    "\n",
    "\n",
    "#\n"
   ]
  },
  {
   "cell_type": "code",
   "execution_count": 80,
   "metadata": {},
   "outputs": [
    {
     "name": "stdout",
     "output_type": "stream",
     "text": [
      "A y B son impares\n"
     ]
    }
   ],
   "source": [
    "#3. Defina una estructura de control que imprima “A y B son impares” si tanto a como b son impares; si no imprima “A y B no son impares”.\n",
    "a = int(input(\"Introduzca un numero para a\"))\n",
    "b = int(input(\"Introduzca un numero para b\"))\n",
    "\n",
    "if a % 2 == 0 and b % 2 == 0:\n",
    "    print(\"A y B no son impares\")\n",
    "# elif a % 2 != 0 & b % 1 == 0:\n",
    "#     print(\"A es impar y B es par\")\n",
    "else:\n",
    "    print(\"A y B son impares\")"
   ]
  }
 ],
 "metadata": {
  "kernelspec": {
   "display_name": "Python 3.11.0 64-bit",
   "language": "python",
   "name": "python3"
  },
  "language_info": {
   "codemirror_mode": {
    "name": "ipython",
    "version": 3
   },
   "file_extension": ".py",
   "mimetype": "text/x-python",
   "name": "python",
   "nbconvert_exporter": "python",
   "pygments_lexer": "ipython3",
   "version": "3.11.0 (main, Oct 24 2022, 18:26:48) [MSC v.1933 64 bit (AMD64)]"
  },
  "orig_nbformat": 4,
  "vscode": {
   "interpreter": {
    "hash": "457ebbab75f7758647193ad21fb29327c32799ea86d603b890ff482faa44ec15"
   }
  }
 },
 "nbformat": 4,
 "nbformat_minor": 2
}
