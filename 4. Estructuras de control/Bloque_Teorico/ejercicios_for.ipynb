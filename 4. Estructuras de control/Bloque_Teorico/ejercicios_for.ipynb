{
 "cells": [
  {
   "attachments": {},
   "cell_type": "markdown",
   "metadata": {},
   "source": [
    "• a = ['Hello','World’]\n",
    "• b = ['Python',3.9]\n",
    "• c = 'HelloWordPython’"
   ]
  },
  {
   "cell_type": "code",
   "execution_count": 21,
   "metadata": {},
   "outputs": [
    {
     "name": "stdout",
     "output_type": "stream",
     "text": [
      "H\n",
      "e\n",
      "l\n",
      "l\n",
      "o\n",
      "W\n",
      "o\n",
      "r\n",
      "d\n",
      "P\n",
      "y\n",
      "t\n",
      "h\n",
      "o\n",
      "n\n"
     ]
    }
   ],
   "source": [
    "#1. Recorre todos los caracteres de c e imprimelos por pantalla.\n",
    "c = 'HelloWordPython'\n",
    "for c in c:\n",
    "    print(c)\n"
   ]
  },
  {
   "cell_type": "code",
   "execution_count": 6,
   "metadata": {},
   "outputs": [
    {
     "name": "stdout",
     "output_type": "stream",
     "text": [
      "Hello\n",
      "World\n"
     ]
    }
   ],
   "source": [
    "#2. Muestra todos los valores de a.\n",
    "a = ['Hello','World']\n",
    "\n",
    "for a in a:\n",
    "    print(a)\n"
   ]
  },
  {
   "cell_type": "code",
   "execution_count": 37,
   "metadata": {},
   "outputs": [
    {
     "name": "stdout",
     "output_type": "stream",
     "text": [
      "0: Hello 1: World\n",
      "0: Python 1: 3.9\n"
     ]
    }
   ],
   "source": [
    "#3. Muestra cada valor de a y b mostrando cada elemento de a con el de la misma posición de b sin utilizar los índices de posición.\n",
    "a = ['Hello','World']\n",
    "b = ['Python',3.9]\n",
    "\n",
    "list_tuplas = [a , b]\n",
    "\n",
    "for a, b in list_tuplas:\n",
    "  print(\"0:\", a, \"1:\", b)\n",
    "\n",
    "#Es correcto, aunque también podrías utilizar (más sencillo y sin generar nuevas variables):\n",
    "# for a,b in zip(list1, list2):\n",
    "#   print(a, b)\n"
   ]
  },
  {
   "cell_type": "code",
   "execution_count": 22,
   "metadata": {},
   "outputs": [
    {
     "name": "stdout",
     "output_type": "stream",
     "text": [
      "Índex: 0 - Value: Python\n",
      "Índex: 1 - Value: 3.9\n"
     ]
    }
   ],
   "source": [
    "#4. Muestra en cada iteración el valor y su índice para los elementos de b.\n",
    "b = ['Python',3.9]\n",
    "for index, value in enumerate(b):\n",
    "    print('Índex: {} - Value: {}'.format(index, value))\n"
   ]
  }
 ],
 "metadata": {
  "kernelspec": {
   "display_name": "Python 3",
   "language": "python",
   "name": "python3"
  },
  "language_info": {
   "codemirror_mode": {
    "name": "ipython",
    "version": 3
   },
   "file_extension": ".py",
   "mimetype": "text/x-python",
   "name": "python",
   "nbconvert_exporter": "python",
   "pygments_lexer": "ipython3",
   "version": "3.11.0"
  },
  "orig_nbformat": 4,
  "vscode": {
   "interpreter": {
    "hash": "457ebbab75f7758647193ad21fb29327c32799ea86d603b890ff482faa44ec15"
   }
  }
 },
 "nbformat": 4,
 "nbformat_minor": 2
}
