{
 "cells": [
  {
   "cell_type": "code",
   "execution_count": 2,
   "metadata": {},
   "outputs": [],
   "source": [
    "#1. Asigna un valor a la variable i.\n",
    "i = 5"
   ]
  },
  {
   "cell_type": "code",
   "execution_count": 3,
   "metadata": {},
   "outputs": [
    {
     "name": "stdout",
     "output_type": "stream",
     "text": [
      "6\n"
     ]
    }
   ],
   "source": [
    "#2. Defina una estructura de control que solo imprima i una vez. Tienes que usar while sin estados de salida.\n",
    "while i <= 5:\n",
    "    i += 1\n",
    "    print(i)\n",
    "\n",
    "# Respuesta correcto:\n",
    "# Sin estados de salida se refiere sin pasarle condiciones al while, por ejemplo\n",
    "# i = 1\n",
    "# while True: (bucle infinito)\n",
    "# print(i)\n",
    "# break"
   ]
  },
  {
   "cell_type": "code",
   "execution_count": 1,
   "metadata": {},
   "outputs": [],
   "source": [
    "#3. Defina una estructura de control que solo imprima i una vez. Tienes que usar while y estados de salida.\n",
    "while i > 5:\n",
    "    i += 1\n",
    "    print(i)"
   ]
  },
  {
   "cell_type": "code",
   "execution_count": 11,
   "metadata": {},
   "outputs": [
    {
     "name": "stdout",
     "output_type": "stream",
     "text": [
      "La variable vale 0\n",
      "La variable vale 1\n",
      "La variable vale 2\n",
      "La variable vale 3\n",
      "La variable vale 4\n",
      "La variable vale 5\n",
      "Ejecucion terminada\n"
     ]
    }
   ],
   "source": [
    "#4. Asigna i el valor 0. Crea una estructura de control que vaya incrementando i mientras i sea menor de 10. Comprueba si el valor de i es 6 e imprime “Ejecución terminada” y finaliza el bucle.\n",
    "i = 0\n",
    "\n",
    "while i <= 10:\n",
    "    print(\"La variable vale\", i)\n",
    "    i += 1\n",
    "    if i == 6:\n",
    "        print(\"Ejecucion terminada\")\n",
    "        break\n"
   ]
  }
 ],
 "metadata": {
  "kernelspec": {
   "display_name": "Python 3.11.0 64-bit",
   "language": "python",
   "name": "python3"
  },
  "language_info": {
   "codemirror_mode": {
    "name": "ipython",
    "version": 3
   },
   "file_extension": ".py",
   "mimetype": "text/x-python",
   "name": "python",
   "nbconvert_exporter": "python",
   "pygments_lexer": "ipython3",
   "version": "3.11.0 (main, Oct 24 2022, 18:26:48) [MSC v.1933 64 bit (AMD64)]"
  },
  "orig_nbformat": 4,
  "vscode": {
   "interpreter": {
    "hash": "457ebbab75f7758647193ad21fb29327c32799ea86d603b890ff482faa44ec15"
   }
  }
 },
 "nbformat": 4,
 "nbformat_minor": 2
}
