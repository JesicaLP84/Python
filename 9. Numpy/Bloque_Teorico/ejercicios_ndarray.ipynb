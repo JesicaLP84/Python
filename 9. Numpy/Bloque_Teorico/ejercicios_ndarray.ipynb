{
 "cells": [
  {
   "cell_type": "code",
   "execution_count": 1,
   "metadata": {},
   "outputs": [],
   "source": [
    "#1. Define un ndarray de una dimensión con los valores 5,8 y 9.\n",
    "import numpy as np\n",
    "first_ndarray = np.array([5,8,9])"
   ]
  },
  {
   "cell_type": "code",
   "execution_count": 2,
   "metadata": {},
   "outputs": [
    {
     "name": "stdout",
     "output_type": "stream",
     "text": [
      "3\n"
     ]
    }
   ],
   "source": [
    "#2. Muestra su tamaño.\n",
    "print(np.size(first_ndarray))"
   ]
  },
  {
   "cell_type": "code",
   "execution_count": 3,
   "metadata": {},
   "outputs": [
    {
     "data": {
      "text/plain": [
       "numpy.ndarray"
      ]
     },
     "execution_count": 3,
     "metadata": {},
     "output_type": "execute_result"
    }
   ],
   "source": [
    "#3. Muestra el dtype.\n",
    "type(first_ndarray)"
   ]
  },
  {
   "cell_type": "code",
   "execution_count": 4,
   "metadata": {},
   "outputs": [
    {
     "name": "stdout",
     "output_type": "stream",
     "text": [
      "3\n",
      "(1, 1, 3)\n"
     ]
    }
   ],
   "source": [
    "#4. Define un ndarray con tres dimensiones y de tipo float usando como valores 5,8 y 9.\n",
    "dimensions = [5,8,9]\n",
    "nd3_array = np.array(dimensions, dtype=float, ndmin=3)\n",
    "\n",
    "print(nd3_array.ndim)\n",
    "print(nd3_array.shape) #indica el tamaño de cada dimension (1 fila,1 columna, 3D )"
   ]
  },
  {
   "cell_type": "code",
   "execution_count": 9,
   "metadata": {},
   "outputs": [
    {
     "name": "stdout",
     "output_type": "stream",
     "text": [
      "[[0. 0. 0.]\n",
      " [0. 0. 0.]\n",
      " [0. 0. 0.]\n",
      " [0. 0. 0.]\n",
      " [0. 0. 0.]]\n",
      "[[1. 1. 1.]\n",
      " [1. 1. 1.]\n",
      " [1. 1. 1.]\n",
      " [1. 1. 1.]\n",
      " [1. 1. 1.]\n",
      " [1. 1. 1.]\n",
      " [1. 1. 1.]]\n",
      "[5. 8. 9.]\n"
     ]
    }
   ],
   "source": [
    "#5.Define tres ndarray el primer con ceros, el segundo con unos y el último con todo vacío. Todos ellos de una dimensión con tres columnas.\n",
    "arr1 = np.zeros((5,3), dtype=float)\n",
    "print(arr1)\n",
    "arr2 =np.ones((7,3), dtype=float)\n",
    "print(arr2)\n",
    "arr3 = np.empty(3)\n",
    "print(arr3)"
   ]
  }
 ],
 "metadata": {
  "kernelspec": {
   "display_name": "Python 3",
   "language": "python",
   "name": "python3"
  },
  "language_info": {
   "codemirror_mode": {
    "name": "ipython",
    "version": 3
   },
   "file_extension": ".py",
   "mimetype": "text/x-python",
   "name": "python",
   "nbconvert_exporter": "python",
   "pygments_lexer": "ipython3",
   "version": "3.11.1 (tags/v3.11.1:a7a450f, Dec  6 2022, 19:58:39) [MSC v.1934 64 bit (AMD64)]"
  },
  "orig_nbformat": 4,
  "vscode": {
   "interpreter": {
    "hash": "c812eb984687e98b7686c463c3fae2045e58b2a2b4e065b3dcebe3cb7d51662e"
   }
  }
 },
 "nbformat": 4,
 "nbformat_minor": 2
}
