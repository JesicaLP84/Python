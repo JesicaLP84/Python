{
 "cells": [
  {
   "cell_type": "code",
   "execution_count": 1,
   "id": "a5585d0e",
   "metadata": {},
   "outputs": [],
   "source": [
    "import numpy as np"
   ]
  },
  {
   "cell_type": "code",
   "execution_count": 2,
   "id": "ff25f152",
   "metadata": {},
   "outputs": [
    {
     "data": {
      "text/plain": [
       "array([0., 0., 0., 0., 1., 0., 0., 0., 0., 0.])"
      ]
     },
     "execution_count": 2,
     "metadata": {},
     "output_type": "execute_result"
    }
   ],
   "source": [
    "#1. Crea un vector de ceros de 10 elementos excepto el quinto elemento que debe de ser 1\n",
    "vect1 = np.zeros((10), dtype=float)\n",
    "vect1[4:5] = 1\n",
    "vect1"
   ]
  },
  {
   "cell_type": "code",
   "execution_count": 65,
   "id": "cf002b18",
   "metadata": {},
   "outputs": [
    {
     "data": {
      "text/plain": [
       "array([10, 11, 12, 13, 14, 15, 16, 17, 18, 19, 20, 21, 22, 23, 24, 25, 26,\n",
       "       27, 28, 29, 30, 31, 32, 33, 34, 35, 36, 37, 38, 39, 40, 41, 42, 43,\n",
       "       44, 45, 46, 47, 48, 49])"
      ]
     },
     "execution_count": 65,
     "metadata": {},
     "output_type": "execute_result"
    }
   ],
   "source": [
    "#2. Crea un vector con los valores desde el 10 hasta 49\n",
    "vect2 = np.arange(10,50)\n",
    "vect2"
   ]
  },
  {
   "cell_type": "code",
   "execution_count": 42,
   "id": "37d01f7f",
   "metadata": {},
   "outputs": [
    {
     "data": {
      "text/plain": [
       "array([49, 48, 47, 46, 45, 44, 43, 42, 41, 40, 39, 38, 37, 36, 35, 34, 33,\n",
       "       32, 31, 30, 29, 28, 27, 26, 25, 24, 23, 22, 21, 20, 19, 18, 17, 16,\n",
       "       15, 14, 13, 12, 11, 10])"
      ]
     },
     "execution_count": 42,
     "metadata": {},
     "output_type": "execute_result"
    }
   ],
   "source": [
    "#3. Modifica el vector del ejercicio anterior y calcula el inverso\n",
    "modified_vector= vect2[::-1]\n",
    "modified_vector\n"
   ]
  },
  {
   "cell_type": "code",
   "execution_count": 66,
   "id": "63df42e5",
   "metadata": {},
   "outputs": [
    {
     "data": {
      "text/plain": [
       "array([[0, 1, 2],\n",
       "       [3, 4, 5],\n",
       "       [6, 7, 8]])"
      ]
     },
     "execution_count": 66,
     "metadata": {},
     "output_type": "execute_result"
    }
   ],
   "source": [
    "#4. Crea una matriz de 3x3 con los valores desde 0 hasta 8\n",
    "mat1 = np.arange(0,9).reshape(3,3)\n",
    "mat1"
   ]
  },
  {
   "cell_type": "code",
   "execution_count": 56,
   "id": "df4f4b4c",
   "metadata": {},
   "outputs": [
    {
     "name": "stdout",
     "output_type": "stream",
     "text": [
      "[[1. 0. 0. 0.]\n",
      " [0. 1. 0. 0.]\n",
      " [0. 0. 1. 0.]\n",
      " [0. 0. 0. 1.]]\n"
     ]
    }
   ],
   "source": [
    "#5. Crea una matriz de identidad de 4x4\n",
    "print(np.identity(4))\n"
   ]
  },
  {
   "cell_type": "code",
   "execution_count": 63,
   "id": "a51ecf94",
   "metadata": {},
   "outputs": [
    {
     "data": {
      "text/plain": [
       "[[9, 7, 1, 2, 4],\n",
       " [1, 5, 7, 2, 1],\n",
       " [8, 8, 3, 1, 4],\n",
       " [9, 8, 6, 2, 6],\n",
       " [1, 2, 3, 9, 4],\n",
       " [1, 3, 1, 9, 3],\n",
       " [2, 2, 6, 6, 8],\n",
       " [5, 2, 6, 3, 1],\n",
       " [6, 1, 3, 2, 6],\n",
       " [3, 1, 5, 1, 1],\n",
       " [9, 1, 8, 1, 4],\n",
       " [4, 2, 4, 4, 3],\n",
       " [3, 7, 4, 9, 9],\n",
       " [6, 3, 4, 1, 3],\n",
       " [7, 3, 2, 1, 7],\n",
       " [7, 5, 6, 8, 2],\n",
       " [1, 3, 8, 8, 4],\n",
       " [4, 3, 6, 5, 3],\n",
       " [3, 3, 4, 2, 7],\n",
       " [6, 6, 8, 6, 2],\n",
       " [3, 7, 9, 7, 2],\n",
       " [8, 1, 8, 6, 7],\n",
       " [9, 1, 9, 4, 6],\n",
       " [6, 4, 6, 2, 9],\n",
       " [5, 6, 5, 6, 1]]"
      ]
     },
     "execution_count": 63,
     "metadata": {},
     "output_type": "execute_result"
    }
   ],
   "source": [
    "#6. Crea una matriz de 5x5x5 con valores aleatorios\n",
    "N = 5\n",
    "M = 5\n",
    "S = 5\n",
    "m = [[np.random.randint(1,10) for j in range(M)] for i in range(N) for x in range(S)]\n",
    "m\n"
   ]
  },
  {
   "cell_type": "code",
   "execution_count": 59,
   "id": "9fc435e2",
   "metadata": {},
   "outputs": [
    {
     "name": "stdout",
     "output_type": "stream",
     "text": [
      "4.552\n"
     ]
    }
   ],
   "source": [
    "#7. Calcula la media del vector anterior\n",
    "print(np.mean(m, dtype = np.float64))"
   ]
  },
  {
   "cell_type": "code",
   "execution_count": 82,
   "id": "a0e19b55",
   "metadata": {},
   "outputs": [
    {
     "data": {
      "text/plain": [
       "array([[1, 0, 0],\n",
       "       [0, 2, 0],\n",
       "       [0, 0, 3]])"
      ]
     },
     "execution_count": 82,
     "metadata": {},
     "output_type": "execute_result"
    }
   ],
   "source": [
    "#8. Crea una matriz 3x3 con los valores 1,2,3 en la diagonal (el resto de elementos deben de ser 0)\n",
    "mat_diago = np.zeros((3, 3),int)\n",
    "np.fill_diagonal(mat_diago,[1,2,3])\n",
    "mat_diago\n"
   ]
  },
  {
   "cell_type": "code",
   "execution_count": 91,
   "id": "fb43e162",
   "metadata": {},
   "outputs": [
    {
     "data": {
      "text/plain": [
       "array([[0, 0, 0, 0],\n",
       "       [1, 0, 0, 0],\n",
       "       [0, 2, 0, 0],\n",
       "       [0, 0, 3, 0]])"
      ]
     },
     "execution_count": 91,
     "metadata": {},
     "output_type": "execute_result"
    }
   ],
   "source": [
    "#9. Crea una matriz 4x4 con los valores 1,2,3 en la diagonal inferior (el resto de elementos deben de ser 0)\n",
    "#[[0, 0, 0, 0],\n",
    "#[1, 0, 0, 0],\n",
    "#[0, 2, 0, 0],\n",
    "#[0, 0, 3, 0]]\n",
    "\n",
    "# np.eye(4, k=-1, dtype='float', order='C') --- Esta forma la he buscado para saber especificament de donde sale todo y como indiciarlo en proximas\n",
    "np.diag([1,2,3], k=-1)"
   ]
  },
  {
   "cell_type": "code",
   "execution_count": 97,
   "id": "06c624aa",
   "metadata": {},
   "outputs": [
    {
     "data": {
      "text/plain": [
       "array([[11, 20,  9, 13],\n",
       "       [14, 19, 28, 11],\n",
       "       [15, 14, 26, 19],\n",
       "       [13, 18,  4, 26]])"
      ]
     },
     "execution_count": 97,
     "metadata": {},
     "output_type": "execute_result"
    }
   ],
   "source": [
    "#10. Normaliza una matriz de 4x4 con valores aleatorios\n",
    "np.random.randint(3, 30, size = (4,4))"
   ]
  },
  {
   "cell_type": "code",
   "execution_count": 129,
   "id": "04d68eb5",
   "metadata": {},
   "outputs": [
    {
     "name": "stdout",
     "output_type": "stream",
     "text": [
      "[[3. 3.]\n",
      " [3. 3.]\n",
      " [3. 3.]\n",
      " [3. 3.]\n",
      " [3. 3.]\n",
      " [3. 3.]]\n"
     ]
    }
   ],
   "source": [
    "#11. Multiplica una matriz de 6x3 (todos valores a 1) por una de 3x2 (todos valores a 1)\n",
    "a = np.ones((6,3))\n",
    "b = np.ones((3,2))\n",
    "print(a@b)\n"
   ]
  },
  {
   "cell_type": "code",
   "execution_count": 130,
   "id": "db196dd1",
   "metadata": {},
   "outputs": [
    {
     "name": "stdout",
     "output_type": "stream",
     "text": [
      "[[3. 3.]\n",
      " [3. 3.]\n",
      " [3. 3.]\n",
      " [3. 3.]\n",
      " [3. 3.]\n",
      " [3. 3.]]\n"
     ]
    }
   ],
   "source": [
    "#12. Realiza la multiplicación del ejercicio anterior utilizando un operador\n",
    "a = np.ones((6,3))\n",
    "b = np.ones((3,2))\n",
    "print(a.dot(b))"
   ]
  },
  {
   "cell_type": "code",
   "execution_count": 2,
   "id": "7a0f8252",
   "metadata": {},
   "outputs": [
    {
     "ename": "NameError",
     "evalue": "name 'np' is not defined",
     "output_type": "error",
     "traceback": [
      "\u001b[1;31m---------------------------------------------------------------------------\u001b[0m",
      "\u001b[1;31mNameError\u001b[0m                                 Traceback (most recent call last)",
      "Cell \u001b[1;32mIn[2], line 3\u001b[0m\n\u001b[0;32m      1\u001b[0m \u001b[39m#13. Cree una matriz de 1 dimensión con los valores desde 1 a 10, con los valores desde 3 hasta 8 en negativo. [1, 2 , -3, -4, -5, -6, -7, -8, 9, 10]\u001b[39;00m\n\u001b[1;32m----> 3\u001b[0m mat_neg \u001b[39m=\u001b[39m np\u001b[39m.\u001b[39marange(\u001b[39m1\u001b[39m,\u001b[39m11\u001b[39m)\n\u001b[0;32m      4\u001b[0m mat_neg[\u001b[39m2\u001b[39m:\u001b[39m8\u001b[39m]\u001b[39m=\u001b[39m[\u001b[39m-\u001b[39m\u001b[39m10\u001b[39m]\n\u001b[0;32m      5\u001b[0m mat_neg\n",
      "\u001b[1;31mNameError\u001b[0m: name 'np' is not defined"
     ]
    }
   ],
   "source": [
    "#13. Cree una matriz de 1 dimensión con los valores desde 1 a 10, con los valores desde 3 hasta 8 en negativo. [1, 2 , -3, -4, -5, -6, -7, -8, 9, 10]\n",
    "\n",
    "mat_neg = np.arange(1,11)\n",
    "mat_neg[2:8]=[-10]\n",
    "mat_neg\n",
    "# array2=np.arange(1,11)\n",
    "# array2[(array2>=3)&(array2<=8)]*=-1"
   ]
  },
  {
   "cell_type": "code",
   "execution_count": 159,
   "id": "6a698b21",
   "metadata": {},
   "outputs": [
    {
     "data": {
      "text/plain": [
       "array([7, 6, 4, 7, 3, 3, 4, 8, 8, 4])"
      ]
     },
     "execution_count": 159,
     "metadata": {},
     "output_type": "execute_result"
    }
   ],
   "source": [
    "#14. Cree un vector de 10 elementos con los valores aleatorios entre 0 y 10\n",
    "np.random.randint(1,10, size=10)"
   ]
  },
  {
   "cell_type": "code",
   "execution_count": 407,
   "id": "68ec90bb",
   "metadata": {},
   "outputs": [
    {
     "data": {
      "text/plain": [
       "array(['2005-04-01', '2005-04-02', '2005-04-03', '2005-04-04',\n",
       "       '2005-04-05', '2005-04-06', '2005-04-07', '2005-04-08',\n",
       "       '2005-04-09', '2005-04-10', '2005-04-11', '2005-04-12',\n",
       "       '2005-04-13', '2005-04-14', '2005-04-15', '2005-04-16',\n",
       "       '2005-04-17', '2005-04-18', '2005-04-19', '2005-04-20',\n",
       "       '2005-04-21', '2005-04-22', '2005-04-23', '2005-04-24',\n",
       "       '2005-04-25', '2005-04-26', '2005-04-27', '2005-04-28',\n",
       "       '2005-04-29', '2005-04-30'], dtype='datetime64[D]')"
      ]
     },
     "execution_count": 407,
     "metadata": {},
     "output_type": "execute_result"
    }
   ],
   "source": [
    "#15. Cree un vector con todas las fechas de abril de 2022\n",
    "date_time = np.arange('2005-04', '2005-05', dtype='datetime64[D]')\n",
    "date_time"
   ]
  },
  {
   "cell_type": "code",
   "execution_count": 163,
   "id": "45e4793c",
   "metadata": {},
   "outputs": [
    {
     "name": "stdout",
     "output_type": "stream",
     "text": [
      "[1 2 2 3 3 4 4 4 4 5 5 5 6 7 7]\n"
     ]
    }
   ],
   "source": [
    "#16. Crea un vector ordenado de 15 elementos con valores aleatorios entre 1 y 10\n",
    "order= np.random.randint(1,10, size=15)\n",
    "order.sort()\n",
    "print(order)\n"
   ]
  },
  {
   "cell_type": "code",
   "execution_count": 176,
   "id": "cd75615a",
   "metadata": {},
   "outputs": [
    {
     "data": {
      "text/plain": [
       "62"
      ]
     },
     "execution_count": 176,
     "metadata": {},
     "output_type": "execute_result"
    }
   ],
   "source": [
    "#17. Devuelva la suma de los valores del vector del ejercicio anterior\n",
    "sum = np.sum(order)\n",
    "sum"
   ]
  },
  {
   "cell_type": "code",
   "execution_count": 177,
   "id": "aa3d5192",
   "metadata": {},
   "outputs": [
    {
     "name": "stdout",
     "output_type": "stream",
     "text": [
      "62\n"
     ]
    }
   ],
   "source": [
    "#18. Devuelve el resultado de la suma del vector ejercicio 16 de una forma más rápida que utilizar np.sum\n",
    "print(sum)"
   ]
  },
  {
   "cell_type": "code",
   "execution_count": 228,
   "id": "34163b26",
   "metadata": {},
   "outputs": [
    {
     "name": "stdout",
     "output_type": "stream",
     "text": [
      "[-0.13773525  0.0034881  -0.73757227  1.89797379 -0.13356839  0.81064007\n",
      "  1.81410872  0.05017401 -0.12613517 -0.61966979 -0.93211565  0.7961741\n",
      "  0.3250071   0.78254407  0.45220763 -1.38933255  1.02371811  0.25066622\n",
      "  0.97991169 -1.00064944]\n",
      "3\n"
     ]
    },
    {
     "data": {
      "text/plain": [
       "array([-0.13773525,  0.0034881 , -0.73757227,  1.89797379,  0.        ,\n",
       "        0.81064007,  1.81410872,  0.05017401, -0.12613517, -0.61966979,\n",
       "       -0.93211565,  0.7961741 ,  0.3250071 ,  0.78254407,  0.45220763,\n",
       "       -1.38933255,  1.02371811,  0.25066622,  0.97991169, -1.00064944])"
      ]
     },
     "execution_count": 228,
     "metadata": {},
     "output_type": "execute_result"
    }
   ],
   "source": [
    "#19. Crea un vector aleatorio de tamaño 20 y reemplaza el máximo valor por 0\n",
    "aleatorio =np.random.randn(20)\n",
    "print(aleatorio)\n",
    "#Indico el array que ha creado aleatoriamente ya que cada vez que se ejecuta, genera un vector aleatorio por lo que el valor a reemplazar cambiar de argumento y de maximo valor\n",
    "# [ 1.24629465  0.86585994 -0.76152494 -1.02830821 -1.76175274  0.16497846\n",
    "#   1.0144932   0.08566192  0.77009875  1.04197093 -1.5265696  -1.56880638\n",
    "#  -0.37342594  0.09992539 -0.96933534  0.05378979 -2.31207458 -0.08109476\n",
    "#  -0.12997653  1.04972073]\n",
    "print(aleatorio.argmax())\n",
    "aleatorio[4]=0\n",
    "aleatorio"
   ]
  },
  {
   "cell_type": "code",
   "execution_count": 229,
   "id": "2b9f71a0",
   "metadata": {},
   "outputs": [
    {
     "data": {
      "text/plain": [
       "(array([1], dtype=int64),)"
      ]
     },
     "execution_count": 229,
     "metadata": {},
     "output_type": "execute_result"
    }
   ],
   "source": [
    "#20. Itera un numpy arrays mostrando su posición y el valor\n",
    "np_arrays = np.array((1, 5, 9, 3, 7, 2, 0))\n",
    "np.where(np_arrays == 5)"
   ]
  },
  {
   "cell_type": "code",
   "execution_count": 232,
   "id": "47ff80af",
   "metadata": {},
   "outputs": [
    {
     "data": {
      "text/plain": [
       "array([-2.85714286,  1.14285714,  5.14285714, -0.85714286,  3.14285714,\n",
       "       -1.85714286, -3.85714286])"
      ]
     },
     "execution_count": 232,
     "metadata": {},
     "output_type": "execute_result"
    }
   ],
   "source": [
    "#21. Resta a cada elemento la media calculada de su fila de la matriz\n",
    "np_media = np.mean(np_arrays)\n",
    "np_arrays-np_media"
   ]
  },
  {
   "cell_type": "code",
   "execution_count": 400,
   "id": "f31bee4d",
   "metadata": {},
   "outputs": [
    {
     "name": "stdout",
     "output_type": "stream",
     "text": [
      "[[ 3  4 55 12 45  4]\n",
      " [28 27 11 56 35 40]\n",
      " [49 18 22 25 31  7]\n",
      " [40 43  4 22  3 56]\n",
      " [57  7 31 16 49  4]\n",
      " [46 24 32 55 50 58]]\n",
      "None\n"
     ]
    }
   ],
   "source": [
    "#22. Crea una matriz de 6x6 y ordenala por la 4ª fila\n",
    "mat7 = np.random.randint(0, 60, size=(6,6))\n",
    "print(mat7)\n",
    "print(mat7.sort(axis=0))\n",
    "\n",
    "#ESTE EJERCICIO NECESITO REVISARLO YA QUE IGUAL QUE EL 24 ME GENERA YA CONFUSION A LA HORA DE DESARROLLARLO, SEGURO QUE ES ALGO MAS SENCILLO Y NO SOY CAPAZ DE HACERLO\n"
   ]
  },
  {
   "cell_type": "code",
   "execution_count": 353,
   "id": "7a67ce90",
   "metadata": {},
   "outputs": [
    {
     "name": "stdout",
     "output_type": "stream",
     "text": [
      "[1, 0, 0, 0, 2, 0, 0, 0, 3, 0, 0, 0, 4, 0, 0, 0, 5, 0, 0, 0]\n"
     ]
    }
   ],
   "source": [
    "#23. Existiendo el vector [1, 2, 3, 4, 5], construir un nuevo vector con 3 ceros consecuitovs entre cada valor del vector anterior\n",
    "vect = [1,2,3,4,5]\n",
    "vect_new = []\n",
    "for x in a:\n",
    "    vect_new.extend([x, 0, 0, 0])\n",
    "print(vect_new)\n",
    "#otro metodo de realizarlo añadiendo los ceros al nuevo vector \n",
    "vect2 = np.array(vect_new)\n",
    "print(vect2)\n",
    "\n",
    "#este se puede hacer con la funcon flatten para devolver una matriz unidimensional aunque estemos utilizando un vector en este caso\n",
    "# np.array([[n, 0,0,0] for n in a]).flatten()\n",
    "\n",
    "\n"
   ]
  },
  {
   "cell_type": "code",
   "execution_count": 376,
   "id": "fe2632d3",
   "metadata": {},
   "outputs": [
    {
     "name": "stdout",
     "output_type": "stream",
     "text": [
      "[[38 47 46 48 48]\n",
      " [44 42  1  0 48]\n",
      " [42 42 45 44 40]\n",
      " [35 23 32 29  7]\n",
      " [54 52 20 10 21]]\n",
      "[[38 44 42 35 54]\n",
      " [47 42 42 23 52]\n",
      " [46  1 45 32 20]\n",
      " [48  0 44 29 10]\n",
      " [48 48 40  7 21]]\n"
     ]
    }
   ],
   "source": [
    "#24. Crea un vector con números aleatorios de 5x5 e intercambia la fila segunda por la tercera\n",
    "b= np.random.randint(0, 60, size=(5,5))\n",
    "print(b)\n",
    "print(b.transpose())\n",
    "\n",
    "#ESTE NECESITO REVISARLO PORQUE INVESTIGUE Y ENTENDI EL METODO TRANSPOSE PERO NO ERA YA CAPAZ DE CAMBIAR UNA FILA POR OTRA AUNQUE CONTROLE EL ARGUMENTO Y AXIS = 0\n"
   ]
  }
 ],
 "metadata": {
  "kernelspec": {
   "display_name": "Python 3",
   "language": "python",
   "name": "python3"
  },
  "language_info": {
   "codemirror_mode": {
    "name": "ipython",
    "version": 3
   },
   "file_extension": ".py",
   "mimetype": "text/x-python",
   "name": "python",
   "nbconvert_exporter": "python",
   "pygments_lexer": "ipython3",
   "version": "3.11.1"
  },
  "vscode": {
   "interpreter": {
    "hash": "457ebbab75f7758647193ad21fb29327c32799ea86d603b890ff482faa44ec15"
   }
  }
 },
 "nbformat": 4,
 "nbformat_minor": 5
}
