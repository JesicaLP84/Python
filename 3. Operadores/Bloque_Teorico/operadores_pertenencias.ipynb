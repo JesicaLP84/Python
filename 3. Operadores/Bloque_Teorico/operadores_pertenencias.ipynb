{
 "cells": [
  {
   "attachments": {},
   "cell_type": "markdown",
   "metadata": {},
   "source": [
    "#Para realizar los siguientes ejercicios, debemos de crear las siguientes variables:\n",
    "• list1 = [1,2,3,4,5]\n",
    "• list2 = ['Hello','Word','Python’]\n",
    "• list3 = ['Operator','Membership', 100,200]"
   ]
  },
  {
   "cell_type": "code",
   "execution_count": 1,
   "metadata": {},
   "outputs": [
    {
     "data": {
      "text/plain": [
       "True"
      ]
     },
     "execution_count": 1,
     "metadata": {},
     "output_type": "execute_result"
    }
   ],
   "source": [
    "#1. Comprueba si 5 está en list1.\n",
    "list1 = [1,2,3,4,5]\n",
    "5 in list1\n"
   ]
  },
  {
   "cell_type": "code",
   "execution_count": 22,
   "metadata": {},
   "outputs": [
    {
     "data": {
      "text/plain": [
       "True"
      ]
     },
     "execution_count": 22,
     "metadata": {},
     "output_type": "execute_result"
    }
   ],
   "source": [
    "#2. Comprueba si “Hello” y “Python” están en list2.\n",
    "list2 = ['Hello', 'Word', 'Python']\n",
    "\n",
    "('Hello') and ('Python') in list2 #me genera la duda de hacer la consulta por los dos valores y si fuese uno que no existiera como Pen\n",
    "#“Hello” and “Python” in list2\n",
    "#Esta condición solo se cumple si ambos valores se encuentran dentro de la lista, si tan solo uno de ellos no estuviera, devolvería False "
   ]
  },
  {
   "cell_type": "code",
   "execution_count": 4,
   "metadata": {},
   "outputs": [
    {
     "data": {
      "text/plain": [
       "False"
      ]
     },
     "execution_count": 4,
     "metadata": {},
     "output_type": "execute_result"
    }
   ],
   "source": [
    "#3. Comprueba si list2 es igual que list3.\n",
    "list2 = ['Hello','Word', 'Python']\n",
    "list3 = ['Operator','Membership', 100,200]\n",
    "\n",
    "list2 is list3  # list2 == list3 tambien devuelve False"
   ]
  }
 ],
 "metadata": {
  "kernelspec": {
   "display_name": "Python 3.11.0 64-bit",
   "language": "python",
   "name": "python3"
  },
  "language_info": {
   "codemirror_mode": {
    "name": "ipython",
    "version": 3
   },
   "file_extension": ".py",
   "mimetype": "text/x-python",
   "name": "python",
   "nbconvert_exporter": "python",
   "pygments_lexer": "ipython3",
   "version": "3.11.0 (main, Oct 24 2022, 18:26:48) [MSC v.1933 64 bit (AMD64)]"
  },
  "orig_nbformat": 4,
  "vscode": {
   "interpreter": {
    "hash": "457ebbab75f7758647193ad21fb29327c32799ea86d603b890ff482faa44ec15"
   }
  }
 },
 "nbformat": 4,
 "nbformat_minor": 2
}
