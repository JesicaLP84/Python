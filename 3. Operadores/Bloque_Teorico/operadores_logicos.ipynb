{
 "cells": [
  {
   "cell_type": "code",
   "execution_count": 8,
   "metadata": {},
   "outputs": [],
   "source": [
    "#1. Crea las variables a, b, c y d con los valores 10, 100, 200 y 300 respectivamente.\n",
    "a,b,c,d = 10, 100, 200, 300"
   ]
  },
  {
   "cell_type": "code",
   "execution_count": 12,
   "metadata": {},
   "outputs": [
    {
     "data": {
      "text/plain": [
       "False"
      ]
     },
     "execution_count": 12,
     "metadata": {},
     "output_type": "execute_result"
    }
   ],
   "source": [
    "#2. Comprueba si a es mayor que b y c es menor que d.\n",
    "a>b and c<d"
   ]
  },
  {
   "cell_type": "code",
   "execution_count": 18,
   "metadata": {},
   "outputs": [
    {
     "data": {
      "text/plain": [
       "True"
      ]
     },
     "execution_count": 18,
     "metadata": {},
     "output_type": "execute_result"
    }
   ],
   "source": [
    "#3. Comprueba si la suma de a y b es mayor o igual que c o la suma de b y c es mayor o igual que d.\n",
    "x = a+b\n",
    "y = b+c\n",
    "\n",
    "x>=c or y>=d\n",
    "\n",
    "#Es correcto, pero para formular la condición sin crear nuevas variables sería: \n",
    "\n",
    "if a+b >= c or b+c >= d:"
   ]
  }
 ],
 "metadata": {
  "kernelspec": {
   "display_name": "Python 3.11.0 64-bit",
   "language": "python",
   "name": "python3"
  },
  "language_info": {
   "codemirror_mode": {
    "name": "ipython",
    "version": 3
   },
   "file_extension": ".py",
   "mimetype": "text/x-python",
   "name": "python",
   "nbconvert_exporter": "python",
   "pygments_lexer": "ipython3",
   "version": "3.11.0 (main, Oct 24 2022, 18:26:48) [MSC v.1933 64 bit (AMD64)]"
  },
  "orig_nbformat": 4,
  "vscode": {
   "interpreter": {
    "hash": "457ebbab75f7758647193ad21fb29327c32799ea86d603b890ff482faa44ec15"
   }
  }
 },
 "nbformat": 4,
 "nbformat_minor": 2
}
