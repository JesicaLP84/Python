{
 "cells": [
  {
   "cell_type": "code",
   "execution_count": 15,
   "metadata": {},
   "outputs": [
    {
     "name": "stdout",
     "output_type": "stream",
     "text": [
      "[10, 20, 'Hello', 20.5]\n"
     ]
    }
   ],
   "source": [
    "#1. Define una lista con los valores 10,20,'Hello',20.5\n",
    "list_One = [10, 20, 'Hello', 20.5]\n",
    "print(list_One)"
   ]
  },
  {
   "cell_type": "code",
   "execution_count": 16,
   "metadata": {},
   "outputs": [
    {
     "name": "stdout",
     "output_type": "stream",
     "text": [
      "[10, 20, 'Hello', 20.5, 'Word']\n"
     ]
    }
   ],
   "source": [
    "#2. Añade “Word” al final de la lista.\n",
    "list_One.append(\"Word\")\n",
    "print(list_One)"
   ]
  },
  {
   "cell_type": "code",
   "execution_count": 17,
   "metadata": {},
   "outputs": [
    {
     "name": "stdout",
     "output_type": "stream",
     "text": [
      "['Python', 10, 20, 'Hello', 20.5, 'Word']\n"
     ]
    }
   ],
   "source": [
    "#3. Añade “Python” al principio de la lista.\n",
    "list_One.insert(0,\"Python\") #Se pone index del elememto en la posicion cero y luego se pone el elemento a insertar\n",
    "print(list_One)"
   ]
  },
  {
   "cell_type": "code",
   "execution_count": 18,
   "metadata": {},
   "outputs": [
    {
     "name": "stdout",
     "output_type": "stream",
     "text": [
      "['Python', 20, 'Hello', 20.5, 'Word']\n"
     ]
    }
   ],
   "source": [
    "#4. Elimina el segundo valor de la lista.\n",
    "# list_One.remove(10)\n",
    "# print(list_One)\n",
    "\n",
    "del list_One[1]\n",
    "print(list_One)"
   ]
  },
  {
   "cell_type": "code",
   "execution_count": 5,
   "metadata": {},
   "outputs": [
    {
     "name": "stdout",
     "output_type": "stream",
     "text": [
      "[20, 40, 'Bye']\n"
     ]
    }
   ],
   "source": [
    "#5. Crea una segunda lista con los valores 20, 40, ‘Bye’ (utiliza una forma diferente que en el punto 1)\n",
    "# # Haciendolo con constuctor\n",
    "list_Tow = list((20, 40, 'Bye'))\n",
    "print(list_Tow)"
   ]
  },
  {
   "cell_type": "code",
   "execution_count": 20,
   "metadata": {},
   "outputs": [],
   "source": [
    "#6. Une las dos listas.\n",
    "list_One.extend(list_Tow)\n"
   ]
  },
  {
   "cell_type": "code",
   "execution_count": 21,
   "metadata": {},
   "outputs": [
    {
     "name": "stdout",
     "output_type": "stream",
     "text": [
      "['Python', 20, 'Hello', 20.5, 'Word', 20, 40, 'Bye', 20, 40, 'Bye']\n"
     ]
    }
   ],
   "source": [
    "#7. Muestra la lista final.\n",
    "print(list_One)"
   ]
  }
 ],
 "metadata": {
  "kernelspec": {
   "display_name": "Python 3.11.0 64-bit",
   "language": "python",
   "name": "python3"
  },
  "language_info": {
   "codemirror_mode": {
    "name": "ipython",
    "version": 3
   },
   "file_extension": ".py",
   "mimetype": "text/x-python",
   "name": "python",
   "nbconvert_exporter": "python",
   "pygments_lexer": "ipython3",
   "version": "3.11.0 (main, Oct 24 2022, 18:26:48) [MSC v.1933 64 bit (AMD64)]"
  },
  "orig_nbformat": 4,
  "vscode": {
   "interpreter": {
    "hash": "457ebbab75f7758647193ad21fb29327c32799ea86d603b890ff482faa44ec15"
   }
  }
 },
 "nbformat": 4,
 "nbformat_minor": 2
}
