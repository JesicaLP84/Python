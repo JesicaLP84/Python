{
 "cells": [
  {
   "cell_type": "markdown",
   "metadata": {},
   "source": [
    "#Para realizar este ejercicio tienes un diccionario con las claves: coche, motocicleta, camión y los valores: 10, 20 y 30 respectivamente."
   ]
  },
  {
   "cell_type": "code",
   "execution_count": 2,
   "metadata": {},
   "outputs": [
    {
     "name": "stdout",
     "output_type": "stream",
     "text": [
      "{'car': '10', 'motorcycle': '20', 'truck': '30'}\n"
     ]
    }
   ],
   "source": [
    "#1. Define el diccionario usando dict().\n",
    "dict_vehicle = dict(\n",
    "    car = \"10\",\n",
    "    motorcycle = \"20\",\n",
    "    truck = \"30\",\n",
    ")\n",
    "print(dict_vehicle)"
   ]
  },
  {
   "cell_type": "code",
   "execution_count": 3,
   "metadata": {},
   "outputs": [
    {
     "name": "stdout",
     "output_type": "stream",
     "text": [
      "{'car': '10', 'motorcycle': '20', 'truck': '30'}\n"
     ]
    }
   ],
   "source": [
    "#2. Define el diccionario usando { }.\n",
    "dict_vehicle = {\n",
    "    \"car\" : \"10\",\n",
    "    \"motorcycle\" : \"20\",\n",
    "    \"truck\" : \"30\"\n",
    "}\n",
    "print(dict_vehicle)"
   ]
  },
  {
   "cell_type": "code",
   "execution_count": 4,
   "metadata": {},
   "outputs": [
    {
     "name": "stdout",
     "output_type": "stream",
     "text": [
      "{'car': '10', 'motorcycle': '20', 'truck': '30'}\n"
     ]
    }
   ],
   "source": [
    "#3. Define el diccionario usando zip().\n",
    "key_list = ['car', 'motorcycle', 'truck']\n",
    "value_list = ['10','20','30']\n",
    "\n",
    "dict_from_vehicle =  {k: v for k, v in zip(key_list, value_list)}\n",
    "print(dict_from_vehicle)"
   ]
  },
  {
   "cell_type": "code",
   "execution_count": 5,
   "metadata": {},
   "outputs": [
    {
     "name": "stdout",
     "output_type": "stream",
     "text": [
      "10 20 30\n"
     ]
    }
   ],
   "source": [
    "#4. Muestra los valores del diccionario.\n",
    "model_info1 = dict_vehicle['car']\n",
    "model_info2 = dict_vehicle.get('motorcycle')\n",
    "model_info3 = dict_vehicle['truck']\n",
    "print(model_info1, model_info2, model_info3)\n"
   ]
  },
  {
   "cell_type": "code",
   "execution_count": 6,
   "metadata": {},
   "outputs": [],
   "source": [
    "#5. Muestra las claves del diccionario.\n",
    "model_key = dict_vehicle.keys()\n"
   ]
  },
  {
   "cell_type": "code",
   "execution_count": 5,
   "metadata": {},
   "outputs": [],
   "source": [
    "#6. Muestra el valor de coche.\n",
    "model_value = dict_vehicle.get('car')\n"
   ]
  },
  {
   "cell_type": "code",
   "execution_count": 2,
   "metadata": {},
   "outputs": [],
   "source": [
    "#7. Añade al diccionario avión con valor 100.\n",
    "dict_vehicle['plane'] = 100"
   ]
  },
  {
   "cell_type": "code",
   "execution_count": 3,
   "metadata": {},
   "outputs": [
    {
     "name": "stdout",
     "output_type": "stream",
     "text": [
      "{'car': '10', 'motorcycle': '20', 'truck': '30', 'plane': 100}\n"
     ]
    }
   ],
   "source": [
    "#8. Muestra los elementos del diccionario.\n",
    "print(dict_vehicle)"
   ]
  }
 ],
 "metadata": {
  "kernelspec": {
   "display_name": "Python 3.11.0 64-bit",
   "language": "python",
   "name": "python3"
  },
  "language_info": {
   "codemirror_mode": {
    "name": "ipython",
    "version": 3
   },
   "file_extension": ".py",
   "mimetype": "text/x-python",
   "name": "python",
   "nbconvert_exporter": "python",
   "pygments_lexer": "ipython3",
   "version": "3.11.0"
  },
  "orig_nbformat": 4,
  "vscode": {
   "interpreter": {
    "hash": "457ebbab75f7758647193ad21fb29327c32799ea86d603b890ff482faa44ec15"
   }
  }
 },
 "nbformat": 4,
 "nbformat_minor": 2
}
