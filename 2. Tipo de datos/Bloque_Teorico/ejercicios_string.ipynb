{
 "cells": [
  {
   "cell_type": "code",
   "execution_count": 22,
   "metadata": {},
   "outputs": [
    {
     "name": "stdout",
     "output_type": "stream",
     "text": [
      " Master Python\n"
     ]
    }
   ],
   "source": [
    "#1. Define una variable con un string con el valor “ Master Python”.\n",
    "string_basic = \" Master Python\"\n",
    "print(string_basic)"
   ]
  },
  {
   "cell_type": "code",
   "execution_count": 24,
   "metadata": {},
   "outputs": [
    {
     "name": "stdout",
     "output_type": "stream",
     "text": [
      "14\n"
     ]
    }
   ],
   "source": [
    "#2. Muestra la longitud de la variable anterior.\n",
    "longitude = len(string_basic)\n",
    "print(longitude)"
   ]
  },
  {
   "cell_type": "code",
   "execution_count": 10,
   "metadata": {},
   "outputs": [
    {
     "name": "stdout",
     "output_type": "stream",
     "text": [
      "M\n"
     ]
    }
   ],
   "source": [
    "#3. Muestra el primer carácter del string.\n",
    "print(string_basic[0])"
   ]
  },
  {
   "cell_type": "code",
   "execution_count": 11,
   "metadata": {},
   "outputs": [
    {
     "name": "stdout",
     "output_type": "stream",
     "text": [
      "n\n"
     ]
    }
   ],
   "source": [
    "#4. Muestra el penúltimo carácter del string.\n",
    "print(string_basic[-1])"
   ]
  },
  {
   "cell_type": "code",
   "execution_count": 16,
   "metadata": {},
   "outputs": [
    {
     "name": "stdout",
     "output_type": "stream",
     "text": [
      "Master Python\n"
     ]
    }
   ],
   "source": [
    "#5. Elimina los espacios iniciales del string.\n",
    "print(string_basic.strip())"
   ]
  },
  {
   "cell_type": "code",
   "execution_count": 21,
   "metadata": {},
   "outputs": [
    {
     "name": "stdout",
     "output_type": "stream",
     "text": [
      "Mse yhn\n"
     ]
    }
   ],
   "source": [
    "#6. Muestra los caracteres en posiciones impares.\n",
    "print(string_basic[1::2])"
   ]
  },
  {
   "cell_type": "code",
   "execution_count": 8,
   "metadata": {},
   "outputs": [
    {
     "name": "stdout",
     "output_type": "stream",
     "text": [
      "master python\n"
     ]
    }
   ],
   "source": [
    "#7. Convierte todo el string en minúscula.\n",
    "minuscule = string_basic.lower()\n",
    "print(minuscule)"
   ]
  },
  {
   "cell_type": "code",
   "execution_count": 31,
   "metadata": {},
   "outputs": [
    {
     "name": "stdout",
     "output_type": "stream",
     "text": [
      "['Master', 'Python']\n"
     ]
    }
   ],
   "source": [
    "#8. Separa el string por espacios en blanco.\n",
    "white_space =string_basic.split( )\n",
    "print(white_space)"
   ]
  },
  {
   "cell_type": "code",
   "execution_count": 47,
   "metadata": {},
   "outputs": [
    {
     "name": "stdout",
     "output_type": "stream",
     "text": [
      " Master JAVA\n"
     ]
    }
   ],
   "source": [
    "#9. Reemplaza “python” por “JAVA”.\n",
    "replace = string_basic.replace('Python','JAVA')\n",
    "print(replace)"
   ]
  }
 ],
 "metadata": {
  "kernelspec": {
   "display_name": "Python 3.11.0 64-bit",
   "language": "python",
   "name": "python3"
  },
  "language_info": {
   "codemirror_mode": {
    "name": "ipython",
    "version": 3
   },
   "file_extension": ".py",
   "mimetype": "text/x-python",
   "name": "python",
   "nbconvert_exporter": "python",
   "pygments_lexer": "ipython3",
   "version": "3.11.0 (main, Oct 24 2022, 18:26:48) [MSC v.1933 64 bit (AMD64)]"
  },
  "orig_nbformat": 4,
  "vscode": {
   "interpreter": {
    "hash": "457ebbab75f7758647193ad21fb29327c32799ea86d603b890ff482faa44ec15"
   }
  }
 },
 "nbformat": 4,
 "nbformat_minor": 2
}
