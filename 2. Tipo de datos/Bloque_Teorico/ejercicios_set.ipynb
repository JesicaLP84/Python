{
 "cells": [
  {
   "cell_type": "code",
   "execution_count": 1,
   "metadata": {},
   "outputs": [
    {
     "name": "stdout",
     "output_type": "stream",
     "text": [
      "{'motorcicle', 'bicycle', 'car'}\n"
     ]
    }
   ],
   "source": [
    "#1. Define un conjunto con los valores coche, motocicleta, bicicleta.\n",
    "value_set= {\"car\",\"motorcicle\",\"bicycle\"}\n",
    "print(value_set)"
   ]
  },
  {
   "cell_type": "code",
   "execution_count": 2,
   "metadata": {},
   "outputs": [
    {
     "name": "stdout",
     "output_type": "stream",
     "text": [
      "{'plane', 'motorcicle', 'bicycle', 'car'}\n"
     ]
    }
   ],
   "source": [
    "#2. Añade avión al conjunto.\n",
    "value_set.add(\"plane\")\n",
    "print(value_set)"
   ]
  },
  {
   "cell_type": "code",
   "execution_count": 3,
   "metadata": {},
   "outputs": [
    {
     "name": "stdout",
     "output_type": "stream",
     "text": [
      "{'plane', 'motorcicle', 'bicycle'}\n"
     ]
    }
   ],
   "source": [
    "#3. Elimina coche del conjunto.\n",
    "value_set.remove(\"car\")\n",
    "print(value_set)"
   ]
  },
  {
   "cell_type": "code",
   "execution_count": 4,
   "metadata": {},
   "outputs": [
    {
     "name": "stdout",
     "output_type": "stream",
     "text": [
      "{'tractor', 'plane', 'car'}\n"
     ]
    }
   ],
   "source": [
    "#4. Crea otro conjunto con los valores avión, coche, tractor (utiliza una forma diferente que en el punto 1).\n",
    "value_set2 = set((\"plane\",\"car\",\"tractor\"))\n",
    "print(value_set2)"
   ]
  },
  {
   "cell_type": "code",
   "execution_count": 5,
   "metadata": {},
   "outputs": [
    {
     "name": "stdout",
     "output_type": "stream",
     "text": [
      "{'tractor', 'plane', 'car'}\n"
     ]
    }
   ],
   "source": [
    "#5. Crea otro conjunto con los valores que se repitan en los conjuntos anteriores.\n",
    "value_set3= set((\"plane\",\"car\",\"tractor\",\"plane\",\"car\",\"tractor\"))\n",
    "print(value_set3)"
   ]
  },
  {
   "cell_type": "code",
   "execution_count": 7,
   "metadata": {},
   "outputs": [
    {
     "name": "stdout",
     "output_type": "stream",
     "text": [
      "{'tractor', 'plane', 'bicycle', 'motorcicle', 'car'}\n"
     ]
    }
   ],
   "source": [
    "#6. Muestra un conjunto con todos los valores que pertenecen al conjunto creado en el punto 1 y punto 4.\n",
    "value_union = value_set.union(value_set2)\n",
    "print(value_union)"
   ]
  }
 ],
 "metadata": {
  "kernelspec": {
   "display_name": "Python 3.11.0 64-bit",
   "language": "python",
   "name": "python3"
  },
  "language_info": {
   "codemirror_mode": {
    "name": "ipython",
    "version": 3
   },
   "file_extension": ".py",
   "mimetype": "text/x-python",
   "name": "python",
   "nbconvert_exporter": "python",
   "pygments_lexer": "ipython3",
   "version": "3.11.0 (main, Oct 24 2022, 18:26:48) [MSC v.1933 64 bit (AMD64)]"
  },
  "orig_nbformat": 4,
  "vscode": {
   "interpreter": {
    "hash": "457ebbab75f7758647193ad21fb29327c32799ea86d603b890ff482faa44ec15"
   }
  }
 },
 "nbformat": 4,
 "nbformat_minor": 2
}
