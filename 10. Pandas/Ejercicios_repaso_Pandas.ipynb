{
 "cells": [
  {
   "cell_type": "markdown",
   "id": "4f8157d3",
   "metadata": {},
   "source": [
    "## Ejercicios repaso Pandas"
   ]
  },
  {
   "cell_type": "code",
   "execution_count": null,
   "id": "d1f054dc",
   "metadata": {},
   "outputs": [],
   "source": [
    "\n",
    "lst1 = ['gato', 'perro', 'ratón', 'elefante', 'rinoceronte']\n",
    "lst2 = [x for x in range(1,6)]"
   ]
  },
  {
   "cell_type": "code",
   "execution_count": 29,
   "id": "f3a1b319",
   "metadata": {},
   "outputs": [
    {
     "data": {
      "text/html": [
       "<div>\n",
       "<style scoped>\n",
       "    .dataframe tbody tr th:only-of-type {\n",
       "        vertical-align: middle;\n",
       "    }\n",
       "\n",
       "    .dataframe tbody tr th {\n",
       "        vertical-align: top;\n",
       "    }\n",
       "\n",
       "    .dataframe thead th {\n",
       "        text-align: right;\n",
       "    }\n",
       "</style>\n",
       "<table border=\"1\" class=\"dataframe\">\n",
       "  <thead>\n",
       "    <tr style=\"text-align: right;\">\n",
       "      <th></th>\n",
       "      <th>list1</th>\n",
       "      <th>list2</th>\n",
       "    </tr>\n",
       "  </thead>\n",
       "  <tbody>\n",
       "    <tr>\n",
       "      <th>0</th>\n",
       "      <td>gato</td>\n",
       "      <td>1</td>\n",
       "    </tr>\n",
       "    <tr>\n",
       "      <th>1</th>\n",
       "      <td>perro</td>\n",
       "      <td>2</td>\n",
       "    </tr>\n",
       "    <tr>\n",
       "      <th>2</th>\n",
       "      <td>ratón</td>\n",
       "      <td>3</td>\n",
       "    </tr>\n",
       "    <tr>\n",
       "      <th>3</th>\n",
       "      <td>elefante</td>\n",
       "      <td>4</td>\n",
       "    </tr>\n",
       "    <tr>\n",
       "      <th>4</th>\n",
       "      <td>rinoceronte</td>\n",
       "      <td>5</td>\n",
       "    </tr>\n",
       "  </tbody>\n",
       "</table>\n",
       "</div>"
      ],
      "text/plain": [
       "         list1  list2\n",
       "0         gato      1\n",
       "1        perro      2\n",
       "2        ratón      3\n",
       "3     elefante      4\n",
       "4  rinoceronte      5"
      ]
     },
     "execution_count": 29,
     "metadata": {},
     "output_type": "execute_result"
    }
   ],
   "source": [
    "#1. Convierte lst1 a un Series y lst2 a otro Series. Una vez creados, combinar los Series para crear un DataFrame\n",
    "import pandas as pd\n",
    "import numpy as np\n",
    "lst1= pd.Series(lst1)\n",
    "lst2 = pd.Series([x for x in range(1,6)])\n",
    "series_dt = pd.DataFrame({'list1':lst1, 'list2':lst2})\n",
    "series_dt"
   ]
  },
  {
   "cell_type": "code",
   "execution_count": 32,
   "id": "37ee267c",
   "metadata": {},
   "outputs": [
    {
     "data": {
      "text/html": [
       "<div>\n",
       "<style scoped>\n",
       "    .dataframe tbody tr th:only-of-type {\n",
       "        vertical-align: middle;\n",
       "    }\n",
       "\n",
       "    .dataframe tbody tr th {\n",
       "        vertical-align: top;\n",
       "    }\n",
       "\n",
       "    .dataframe thead th {\n",
       "        text-align: right;\n",
       "    }\n",
       "</style>\n",
       "<table border=\"1\" class=\"dataframe\">\n",
       "  <thead>\n",
       "    <tr style=\"text-align: right;\">\n",
       "      <th></th>\n",
       "      <th>animales</th>\n",
       "      <th>list2</th>\n",
       "    </tr>\n",
       "  </thead>\n",
       "  <tbody>\n",
       "    <tr>\n",
       "      <th>0</th>\n",
       "      <td>gato</td>\n",
       "      <td>1</td>\n",
       "    </tr>\n",
       "    <tr>\n",
       "      <th>1</th>\n",
       "      <td>perro</td>\n",
       "      <td>2</td>\n",
       "    </tr>\n",
       "    <tr>\n",
       "      <th>2</th>\n",
       "      <td>ratón</td>\n",
       "      <td>3</td>\n",
       "    </tr>\n",
       "    <tr>\n",
       "      <th>3</th>\n",
       "      <td>elefante</td>\n",
       "      <td>4</td>\n",
       "    </tr>\n",
       "    <tr>\n",
       "      <th>4</th>\n",
       "      <td>rinoceronte</td>\n",
       "      <td>5</td>\n",
       "    </tr>\n",
       "  </tbody>\n",
       "</table>\n",
       "</div>"
      ],
      "text/plain": [
       "      animales  list2\n",
       "0         gato      1\n",
       "1        perro      2\n",
       "2        ratón      3\n",
       "3     elefante      4\n",
       "4  rinoceronte      5"
      ]
     },
     "execution_count": 32,
     "metadata": {},
     "output_type": "execute_result"
    }
   ],
   "source": [
    "#2. Renombra la Series basada en lst1 creada previamente a \"animales\"\n",
    "series_dt.rename(columns={'list1':'animales'})\n"
   ]
  },
  {
   "cell_type": "code",
   "execution_count": 94,
   "id": "49473b99",
   "metadata": {},
   "outputs": [
    {
     "name": "stdout",
     "output_type": "stream",
     "text": [
      "<bound method Series.drop of 0    1\n",
      "1    2\n",
      "2    3\n",
      "3    4\n",
      "4    5\n",
      "5    7\n",
      "dtype: int64>\n"
     ]
    }
   ],
   "source": [
    "#3. Crea dos series de tamaño 10 con valores entre 1 y 10. Elimina del series1 los elementos que aparezcan en Series2\n",
    "import numpy as np\n",
    "ser1 = pd.Series([1, 2, 3, 4, 5, 7, 4, 5 , 2, 1])\n",
    "ser2 = pd.Series([3, 4, 5, 6, 7, 2 , 5, 4, 3, 1])\n",
    "\n",
    "# union of the series\n",
    "union = pd.Series(np.union1d(ser1, ser2))\n",
    "\n",
    "# intersection of the series\n",
    "intersect = pd.Series(np.intersect1d(ser1, ser2))\n",
    "\n",
    "eliminar_duplicates = intersect.drop\n",
    "print(eliminar_duplicates)\n"
   ]
  },
  {
   "cell_type": "code",
   "execution_count": 56,
   "id": "548bcbb2",
   "metadata": {},
   "outputs": [
    {
     "name": "stdout",
     "output_type": "stream",
     "text": [
      "5    6\n",
      "dtype: int64\n"
     ]
    }
   ],
   "source": [
    "#4. Obtén los elementos no comunes en ambas series\n",
    "# uncommon elements in both the series\n",
    "not_commons_series = union[~union.isin(intersect)]\n",
    "\n",
    "# displaying the result\n",
    "print(not_commons_series)"
   ]
  },
  {
   "cell_type": "code",
   "execution_count": 64,
   "id": "ebc0c811",
   "metadata": {},
   "outputs": [
    {
     "name": "stdout",
     "output_type": "stream",
     "text": [
      "1\n",
      "2.0\n",
      "3.5\n",
      "4.75\n",
      "5.0\n"
     ]
    }
   ],
   "source": [
    "#5. Obtén el mínimo y los percentiles 25, 50, 75 y 80 de la primera serie\n",
    "print(ser1.min())\n",
    "print(ser1.quantile(0.25))\n",
    "print(ser1.quantile(0.5))\n",
    "print(ser1.quantile(0.75))\n",
    "print(ser1.quantile(0.80))"
   ]
  },
  {
   "cell_type": "code",
   "execution_count": 67,
   "id": "16c14a4f",
   "metadata": {},
   "outputs": [
    {
     "name": "stdout",
     "output_type": "stream",
     "text": [
      "1    2\n",
      "2    2\n",
      "4    2\n",
      "5    2\n",
      "3    1\n",
      "7    1\n",
      "dtype: int64\n",
      "3    2\n",
      "4    2\n",
      "5    2\n",
      "6    1\n",
      "7    1\n",
      "2    1\n",
      "1    1\n",
      "dtype: int64\n"
     ]
    }
   ],
   "source": [
    "#6. Obtén la frecuencia con la que se repite cada valor\n",
    "print(ser1.value_counts())\n",
    "print(ser2.value_counts())"
   ]
  },
  {
   "cell_type": "code",
   "execution_count": 123,
   "id": "13e8adcd",
   "metadata": {},
   "outputs": [
    {
     "name": "stdout",
     "output_type": "stream",
     "text": [
      "   first second\n",
      "0      1      3\n",
      "1      2      4\n",
      "2  Otros      5\n",
      "3      4  Otros\n",
      "4      5  Otros\n",
      "5  Otros  Otros\n",
      "6      4      5\n",
      "7      5      4\n",
      "8      2      3\n",
      "9      1  Otros\n"
     ]
    }
   ],
   "source": [
    "#7. Mantén el valor de los dos elementos más repetidos y al resto asignale el valor \"Otros\"\n",
    "between_series = pd.DataFrame({'first': ser1,'second': ser2})\n",
    "between_data = pd.DataFrame(between_series, columns = ['first', 'second'])\n",
    "#Aqui se realiza el reemplazao de los elementos de cada columna\n",
    "between_data['first']=between_data['first'].replace([3,7],['Otros', 'Otros'])\n",
    "between_data['second']=between_data['second'].replace([6,7,2,1],['Otros', 'Otros', 'Otros', 'Otros'])\n",
    "between_data['second'].replace([6,7,2,1], 'Otros')\n",
    "\n",
    "print(between_data)\n"
   ]
  },
  {
   "cell_type": "code",
   "execution_count": 204,
   "id": "6f62999c",
   "metadata": {},
   "outputs": [
    {
     "data": {
      "text/html": [
       "<div>\n",
       "<style scoped>\n",
       "    .dataframe tbody tr th:only-of-type {\n",
       "        vertical-align: middle;\n",
       "    }\n",
       "\n",
       "    .dataframe tbody tr th {\n",
       "        vertical-align: top;\n",
       "    }\n",
       "\n",
       "    .dataframe thead th {\n",
       "        text-align: right;\n",
       "    }\n",
       "</style>\n",
       "<table border=\"1\" class=\"dataframe\">\n",
       "  <thead>\n",
       "    <tr style=\"text-align: right;\">\n",
       "      <th></th>\n",
       "      <th>A</th>\n",
       "      <th>B</th>\n",
       "      <th>C</th>\n",
       "      <th>D</th>\n",
       "      <th>F</th>\n",
       "    </tr>\n",
       "  </thead>\n",
       "  <tbody>\n",
       "    <tr>\n",
       "      <th>0</th>\n",
       "      <td>700</td>\n",
       "      <td>238</td>\n",
       "      <td>677</td>\n",
       "      <td>171</td>\n",
       "      <td>723</td>\n",
       "    </tr>\n",
       "    <tr>\n",
       "      <th>1</th>\n",
       "      <td>856</td>\n",
       "      <td>582</td>\n",
       "      <td>660</td>\n",
       "      <td>902</td>\n",
       "      <td>796</td>\n",
       "    </tr>\n",
       "    <tr>\n",
       "      <th>2</th>\n",
       "      <td>627</td>\n",
       "      <td>902</td>\n",
       "      <td>834</td>\n",
       "      <td>604</td>\n",
       "      <td>988</td>\n",
       "    </tr>\n",
       "    <tr>\n",
       "      <th>3</th>\n",
       "      <td>614</td>\n",
       "      <td>869</td>\n",
       "      <td>379</td>\n",
       "      <td>709</td>\n",
       "      <td>109</td>\n",
       "    </tr>\n",
       "    <tr>\n",
       "      <th>4</th>\n",
       "      <td>329</td>\n",
       "      <td>100</td>\n",
       "      <td>694</td>\n",
       "      <td>845</td>\n",
       "      <td>917</td>\n",
       "    </tr>\n",
       "    <tr>\n",
       "      <th>5</th>\n",
       "      <td>507</td>\n",
       "      <td>671</td>\n",
       "      <td>593</td>\n",
       "      <td>35</td>\n",
       "      <td>237</td>\n",
       "    </tr>\n",
       "    <tr>\n",
       "      <th>6</th>\n",
       "      <td>243</td>\n",
       "      <td>250</td>\n",
       "      <td>392</td>\n",
       "      <td>766</td>\n",
       "      <td>281</td>\n",
       "    </tr>\n",
       "  </tbody>\n",
       "</table>\n",
       "</div>"
      ],
      "text/plain": [
       "     A    B    C    D    F\n",
       "0  700  238  677  171  723\n",
       "1  856  582  660  902  796\n",
       "2  627  902  834  604  988\n",
       "3  614  869  379  709  109\n",
       "4  329  100  694  845  917\n",
       "5  507  671  593   35  237\n",
       "6  243  250  392  766  281"
      ]
     },
     "execution_count": 204,
     "metadata": {},
     "output_type": "execute_result"
    }
   ],
   "source": [
    "#8. Crea un Series de tamaño 35 con valores aleatorios. Crea un DataFrame basado en este Series de dimensión 7 filas y 5 columnas\n",
    "\n",
    "intenso = pd.DataFrame(np.random.randint(0, 1000, (7, 5)),columns=['A', 'B', 'C', 'D', 'F'])\n",
    "intenso\n"
   ]
  },
  {
   "cell_type": "code",
   "execution_count": 210,
   "id": "4aeca4e5",
   "metadata": {},
   "outputs": [
    {
     "data": {
      "text/plain": [
       "0    1\n",
       "1    2\n",
       "2    3\n",
       "3    4\n",
       "4    5\n",
       "5    7\n",
       "6    4\n",
       "7    5\n",
       "8    2\n",
       "9    1\n",
       "0    3\n",
       "1    4\n",
       "2    5\n",
       "3    6\n",
       "4    7\n",
       "5    2\n",
       "6    5\n",
       "7    4\n",
       "8    3\n",
       "9    1\n",
       "dtype: int64"
      ]
     },
     "execution_count": 210,
     "metadata": {},
     "output_type": "execute_result"
    }
   ],
   "source": [
    "#9. Partiendo de las series creadas en el *Ejercicio 1* apilar las dos series verticalmente.\n",
    "concatenate = pd.concat([ser1, ser2], axis=0)\n",
    "concatenate"
   ]
  },
  {
   "cell_type": "code",
   "execution_count": 274,
   "id": "2bc5028a",
   "metadata": {},
   "outputs": [
    {
     "data": {
      "text/html": [
       "<div>\n",
       "<style scoped>\n",
       "    .dataframe tbody tr th:only-of-type {\n",
       "        vertical-align: middle;\n",
       "    }\n",
       "\n",
       "    .dataframe tbody tr th {\n",
       "        vertical-align: top;\n",
       "    }\n",
       "\n",
       "    .dataframe thead th {\n",
       "        text-align: right;\n",
       "    }\n",
       "</style>\n",
       "<table border=\"1\" class=\"dataframe\">\n",
       "  <thead>\n",
       "    <tr style=\"text-align: right;\">\n",
       "      <th></th>\n",
       "      <th>0</th>\n",
       "      <th>1</th>\n",
       "    </tr>\n",
       "  </thead>\n",
       "  <tbody>\n",
       "    <tr>\n",
       "      <th>0</th>\n",
       "      <td>1</td>\n",
       "      <td>3</td>\n",
       "    </tr>\n",
       "    <tr>\n",
       "      <th>1</th>\n",
       "      <td>2</td>\n",
       "      <td>4</td>\n",
       "    </tr>\n",
       "    <tr>\n",
       "      <th>2</th>\n",
       "      <td>3</td>\n",
       "      <td>5</td>\n",
       "    </tr>\n",
       "    <tr>\n",
       "      <th>3</th>\n",
       "      <td>4</td>\n",
       "      <td>6</td>\n",
       "    </tr>\n",
       "    <tr>\n",
       "      <th>4</th>\n",
       "      <td>5</td>\n",
       "      <td>7</td>\n",
       "    </tr>\n",
       "    <tr>\n",
       "      <th>5</th>\n",
       "      <td>7</td>\n",
       "      <td>2</td>\n",
       "    </tr>\n",
       "    <tr>\n",
       "      <th>6</th>\n",
       "      <td>4</td>\n",
       "      <td>5</td>\n",
       "    </tr>\n",
       "    <tr>\n",
       "      <th>7</th>\n",
       "      <td>5</td>\n",
       "      <td>4</td>\n",
       "    </tr>\n",
       "    <tr>\n",
       "      <th>8</th>\n",
       "      <td>2</td>\n",
       "      <td>3</td>\n",
       "    </tr>\n",
       "    <tr>\n",
       "      <th>9</th>\n",
       "      <td>1</td>\n",
       "      <td>1</td>\n",
       "    </tr>\n",
       "  </tbody>\n",
       "</table>\n",
       "</div>"
      ],
      "text/plain": [
       "   0  1\n",
       "0  1  3\n",
       "1  2  4\n",
       "2  3  5\n",
       "3  4  6\n",
       "4  5  7\n",
       "5  7  2\n",
       "6  4  5\n",
       "7  5  4\n",
       "8  2  3\n",
       "9  1  1"
      ]
     },
     "execution_count": 274,
     "metadata": {},
     "output_type": "execute_result"
    }
   ],
   "source": [
    "#10. Ahora apila horizontalmente\n",
    "horizontal = pd.concat([ser1, ser2], axis=1)\n",
    "horizontal\n"
   ]
  },
  {
   "cell_type": "code",
   "execution_count": 234,
   "id": "22a258c7",
   "metadata": {},
   "outputs": [
    {
     "data": {
      "text/plain": [
       "0           Gato\n",
       "1          Perro\n",
       "2          Ratón\n",
       "3       Elefante\n",
       "4    Rinoceronte\n",
       "dtype: object"
      ]
     },
     "execution_count": 234,
     "metadata": {},
     "output_type": "execute_result"
    }
   ],
   "source": [
    "#11. Cómo convertir en mayúscula el primer caracter de Series de animales\n",
    "# lst1 = pd.Series(['gato', 'perro', 'ratón', 'elefante', 'rinoceronte'])\n",
    "new_seriesUpper = lst1.map(lambda x: x[0].upper()+x[1:-1] + x[-1])\n",
    "new_seriesUpper\n"
   ]
  },
  {
   "cell_type": "code",
   "execution_count": 239,
   "id": "4cefcc04",
   "metadata": {},
   "outputs": [
    {
     "data": {
      "text/plain": [
       "0     4\n",
       "1     5\n",
       "2     5\n",
       "3     8\n",
       "4    11\n",
       "dtype: int64"
      ]
     },
     "execution_count": 239,
     "metadata": {},
     "output_type": "execute_result"
    }
   ],
   "source": [
    "#12. Calcula el número de caracteres de cada elemento\n",
    "characters = lst1.map(lambda calc: len(calc))\n",
    "characters"
   ]
  },
  {
   "cell_type": "code",
   "execution_count": 246,
   "id": "05040d2c",
   "metadata": {},
   "outputs": [
    {
     "data": {
      "text/plain": [
       "1.5811388300841898"
      ]
     },
     "execution_count": 246,
     "metadata": {},
     "output_type": "execute_result"
    }
   ],
   "source": [
    "#13. Calcula la diferencia entre los valores de cada elemento consecutivo del Series numérico\n",
    "lst2.std()"
   ]
  },
  {
   "cell_type": "code",
   "execution_count": 278,
   "id": "16d1e640",
   "metadata": {},
   "outputs": [
    {
     "name": "stdout",
     "output_type": "stream",
     "text": [
      "0   2015-08-06 12:20:00\n",
      "1   2012-04-02 00:00:00\n",
      "2   2021-01-03 00:00:00\n",
      "3   2019-11-21 00:00:00\n",
      "4   2015-01-12 00:00:00\n",
      "5   2007-01-04 00:00:00\n",
      "dtype: datetime64[ns]\n"
     ]
    }
   ],
   "source": [
    "#14. Dada la lista siguiente de fechas, carga un Series de string a datetime ['2015-08-06T12:20', '2012-04-02', '2021/01/03', '20191121', '01-12-2015', '04 Jan 2007']\n",
    "\n",
    "date = ['2015-08-06T12:20', '2012-04-02', '2021/01/03', '20191121', '01-12-2015', '04 Jan 2007']\n",
    "date2 = pd.to_datetime(date)\n",
    "date_Series = pd.Series(date2)\n",
    "print(date_Series)\n",
    "\n"
   ]
  },
  {
   "cell_type": "code",
   "execution_count": 282,
   "id": "5756cf6b",
   "metadata": {},
   "outputs": [
    {
     "name": "stdout",
     "output_type": "stream",
     "text": [
      "0   2015-08-06 12:20:00\n",
      "1   2012-04-02 00:00:00\n",
      "2   2021-01-03 00:00:00\n",
      "3   2019-11-21 00:00:00\n",
      "4   2015-01-12 00:00:00\n",
      "5   2007-01-04 00:00:00\n",
      "dtype: datetime64[ns]\n"
     ]
    },
    {
     "data": {
      "text/plain": [
       "2018-12-30    6\n",
       "2018-12-31    0\n",
       "2019-01-01    1\n",
       "2019-01-02    2\n",
       "2019-01-03    3\n",
       "2019-01-04    4\n",
       "2019-01-05    5\n",
       "2019-01-06    6\n",
       "2019-01-07    0\n",
       "Freq: D, dtype: int64"
      ]
     },
     "execution_count": 282,
     "metadata": {},
     "output_type": "execute_result"
    }
   ],
   "source": [
    "dates = pd.Series(pd.to_datetime(['2015-08-06T12:20', '2012-04-02', '2021/01/03', '20191121', '01-12-2015', '04 Jan 2007']))\n",
    "print(dates)\n",
    "\n",
    "\n",
    "date = pd.date_range('2018-12-30', '2019-01-07',freq='D').to_series()\n",
    "date.dt.dayofweek"
   ]
  },
  {
   "cell_type": "code",
   "execution_count": 279,
   "id": "dcdc6ddb",
   "metadata": {},
   "outputs": [
    {
     "name": "stdout",
     "output_type": "stream",
     "text": [
      "Dia: Int64Index([6, 2, 3, 21, 12, 4], dtype='int64')\n",
      "Año: Int64Index([2015, 2012, 2021, 2019, 2015, 2007], dtype='int64')\n"
     ]
    }
   ],
   "source": [
    "#15. Obtén el día del año del Series anterior\n",
    "\n",
    "print('Dia:',date2.day)\n",
    "print('Año:', date2.year)\n"
   ]
  },
  {
   "cell_type": "code",
   "execution_count": 332,
   "id": "f46a8e66",
   "metadata": {},
   "outputs": [
    {
     "data": {
      "text/plain": [
       "2018-12-30    6\n",
       "2018-12-31    0\n",
       "2019-01-01    1\n",
       "2019-01-02    2\n",
       "2019-01-03    3\n",
       "2019-01-04    4\n",
       "2019-01-05    5\n",
       "2019-01-06    6\n",
       "2019-01-07    0\n",
       "Freq: D, dtype: int64"
      ]
     },
     "execution_count": 332,
     "metadata": {},
     "output_type": "execute_result"
    }
   ],
   "source": [
    "#16. Obtén el día de la semana\n",
    "date2.dt.day_of_week\n",
    "\n",
    "#El numero cero es Lunes, hasta el 6 que es Domingo -- Me ha faltado utilizar  la biblioteca calendar donde haciendolo de la siguiente forma se podria conseguir los nombres de cada dia:\n",
    "#pongo de ejemplo lo siguiente para que lo puedas comprobar\n",
    "# from datetime import date\n",
    "# import calendar\n",
    "# actual_date = date.today()\n",
    "# print(calendar.day_name[actual_date.weekday()])"
   ]
  },
  {
   "cell_type": "code",
   "execution_count": 398,
   "id": "d9890155",
   "metadata": {},
   "outputs": [
    {
     "name": "stdout",
     "output_type": "stream",
     "text": [
      "       Fruit  Weight\n",
      "0    manzana       9\n",
      "1    plátano       2\n",
      "2    plátano       1\n",
      "3  zanahoria       6\n",
      "4    plátano       1\n",
      "5  zanahoria       2\n",
      "6    manzana       5\n",
      "7  zanahoria       2\n",
      "8  zanahoria       1\n",
      "9  zanahoria       4\n",
      "zanahoria    5\n",
      "plátano      3\n",
      "manzana      2\n",
      "Name: Fruit, dtype: int64\n",
      "7.0\n",
      "1.3333333333333333\n",
      "3.0\n"
     ]
    }
   ],
   "source": [
    "#17. Crea un DataFrame basado en un Series de 10 elementos que se genere aleatoriamente entre \"manzana\", \"plátano\", \"zanahoria\" y pesos que sea un Series de 10 elementos aleatorios entre 1 y 10. Calcula la media del peso por fruta.\n",
    "\n",
    "fruits = [np.random.choice(('manzana', 'plátano', 'zanahoria')) for _ in range(10)]\n",
    "weight = np.random.randint(1,10, size=10)\n",
    "dataFrame_all = pd.DataFrame({'Fruit': fruits, \"Weight\":weight})\n",
    "\n",
    "print(dataFrame_all)\n",
    "print(dataFrame_all['Fruit'].value_counts())\n",
    "\n",
    "print(dataFrame_all['Weight'][dataFrame_all['Fruit'] == 'manzana'].mean())\n",
    "print(dataFrame_all['Weight'][dataFrame_all['Fruit'] == 'plátano'].mean())\n",
    "print(dataFrame_all['Weight'][dataFrame_all['Fruit'] == 'zanahoria'].mean())\n",
    "\n",
    "\n",
    "\n"
   ]
  },
  {
   "cell_type": "code",
   "execution_count": 444,
   "id": "1eedeed1",
   "metadata": {},
   "outputs": [
    {
     "data": {
      "text/plain": [
       "2022-01-03    49\n",
       "2022-01-10    49\n",
       "2022-01-17    49\n",
       "2022-01-24    49\n",
       "2022-01-31    49\n",
       "2022-02-07    49\n",
       "2022-02-14    49\n",
       "2022-02-21    49\n",
       "2022-02-28    49\n",
       "2022-03-07    49\n",
       "Freq: W-MON, dtype: int64"
      ]
     },
     "execution_count": 444,
     "metadata": {},
     "output_type": "execute_result"
    }
   ],
   "source": [
    "#18. Crea un Series que contenga los 10 primeros lunes de 2022 como índice y un número aleatorio como valor\n",
    "\n",
    "value_aleat = np.random\n",
    "date_init = pd.Series(np.random.randint(0,100),index=pd.date_range(start='01/01/2022', end='03/07/2022', freq='W-MON'))\n",
    "date_init"
   ]
  },
  {
   "cell_type": "code",
   "execution_count": 469,
   "id": "f2eaa4e8",
   "metadata": {},
   "outputs": [
    {
     "data": {
      "text/html": [
       "<div>\n",
       "<style scoped>\n",
       "    .dataframe tbody tr th:only-of-type {\n",
       "        vertical-align: middle;\n",
       "    }\n",
       "\n",
       "    .dataframe tbody tr th {\n",
       "        vertical-align: top;\n",
       "    }\n",
       "\n",
       "    .dataframe thead th {\n",
       "        text-align: right;\n",
       "    }\n",
       "</style>\n",
       "<table border=\"1\" class=\"dataframe\">\n",
       "  <thead>\n",
       "    <tr style=\"text-align: right;\">\n",
       "      <th></th>\n",
       "      <th>Fecha</th>\n",
       "      <th>Precio</th>\n",
       "    </tr>\n",
       "  </thead>\n",
       "  <tbody>\n",
       "    <tr>\n",
       "      <th>0</th>\n",
       "      <td>2022-01-03</td>\n",
       "      <td>49</td>\n",
       "    </tr>\n",
       "    <tr>\n",
       "      <th>1</th>\n",
       "      <td>2022-01-10</td>\n",
       "      <td>49</td>\n",
       "    </tr>\n",
       "    <tr>\n",
       "      <th>2</th>\n",
       "      <td>2022-01-17</td>\n",
       "      <td>49</td>\n",
       "    </tr>\n",
       "    <tr>\n",
       "      <th>3</th>\n",
       "      <td>2022-01-24</td>\n",
       "      <td>49</td>\n",
       "    </tr>\n",
       "    <tr>\n",
       "      <th>4</th>\n",
       "      <td>2022-01-31</td>\n",
       "      <td>49</td>\n",
       "    </tr>\n",
       "    <tr>\n",
       "      <th>5</th>\n",
       "      <td>2022-02-07</td>\n",
       "      <td>49</td>\n",
       "    </tr>\n",
       "    <tr>\n",
       "      <th>6</th>\n",
       "      <td>2022-02-14</td>\n",
       "      <td>49</td>\n",
       "    </tr>\n",
       "    <tr>\n",
       "      <th>7</th>\n",
       "      <td>2022-02-21</td>\n",
       "      <td>49</td>\n",
       "    </tr>\n",
       "    <tr>\n",
       "      <th>8</th>\n",
       "      <td>2022-02-28</td>\n",
       "      <td>49</td>\n",
       "    </tr>\n",
       "    <tr>\n",
       "      <th>9</th>\n",
       "      <td>2022-03-07</td>\n",
       "      <td>49</td>\n",
       "    </tr>\n",
       "  </tbody>\n",
       "</table>\n",
       "</div>"
      ],
      "text/plain": [
       "       Fecha  Precio\n",
       "0 2022-01-03      49\n",
       "1 2022-01-10      49\n",
       "2 2022-01-17      49\n",
       "3 2022-01-24      49\n",
       "4 2022-01-31      49\n",
       "5 2022-02-07      49\n",
       "6 2022-02-14      49\n",
       "7 2022-02-21      49\n",
       "8 2022-02-28      49\n",
       "9 2022-03-07      49"
      ]
     },
     "execution_count": 469,
     "metadata": {},
     "output_type": "execute_result"
    }
   ],
   "source": [
    "#19. Crea un DataFrame basado en el Series del *Ejercicio 18* con las columnas llamadas fecha y precio\n",
    "\n",
    "indexado = pd.DataFrame(date_init)\n",
    "indexado = indexado.rename_axis('Fecha').reset_index()\n",
    "indexado.rename({0:'Precio'}, axis=1, inplace=True)\n",
    "indexado\n",
    "\n"
   ]
  },
  {
   "cell_type": "code",
   "execution_count": 583,
   "id": "f0b3989c",
   "metadata": {},
   "outputs": [
    {
     "name": "stdout",
     "output_type": "stream",
     "text": [
      "     A    B    C    D    E\n",
      "0  413   78  723  282  363\n",
      "1  767   80  163  564  913\n",
      "2  592  394  188  969   99\n",
      "3  921  639  154  563  335\n",
      "4  125  283  132  358  725\n",
      "     A    B    C    D    E\n",
      "1  767   80  163  564  913\n",
      "4  125  283  132  358  725\n",
      "0  413   78  723  282  363\n",
      "3  921  639  154  563  335\n",
      "2  592  394  188  969   99\n"
     ]
    }
   ],
   "source": [
    "#20. Genera un DataFrame de 5x5 y posteriormente invierte el orden de los valores de sus filas\n",
    "array = np.array([[413,78,723,282,363],[767,80,163,564,913],[592,394,188,969,99],[921,639,154,563,335],[125,283,132,358,725]])\n",
    "\n",
    "five_five = pd.DataFrame(array, columns=['A', 'B', 'C', 'D', 'E'])\n",
    "print(five_five)\n",
    "\n",
    "print(five_five.sort_values(by= 'E' ,ascending=False))"
   ]
  },
  {
   "cell_type": "code",
   "execution_count": 587,
   "id": "27ca9a3f",
   "metadata": {},
   "outputs": [
    {
     "name": "stdout",
     "output_type": "stream",
     "text": [
      "     A    B    C    D    E     Result\n",
      "0  413   78  723  282  363   9.269231\n",
      "1  767   80  163  564  913  11.412500\n",
      "2  592  394  188  969   99   9.787879\n",
      "3  921  639  154  563  335   5.980519\n",
      "4  125  283  132  358  725   5.800000\n"
     ]
    }
   ],
   "source": [
    "#21. Añade una nueva columna que sea el máximo entre el mínimo de cada fila\n",
    "five_five['Result'] = five_five.max(axis=1)/five_five.min(axis=1)\n",
    "print(five_five)\n"
   ]
  }
 ],
 "metadata": {
  "kernelspec": {
   "display_name": "Python 3",
   "language": "python",
   "name": "python3"
  },
  "language_info": {
   "codemirror_mode": {
    "name": "ipython",
    "version": 3
   },
   "file_extension": ".py",
   "mimetype": "text/x-python",
   "name": "python",
   "nbconvert_exporter": "python",
   "pygments_lexer": "ipython3",
   "version": "3.11.1 (tags/v3.11.1:a7a450f, Dec  6 2022, 19:58:39) [MSC v.1934 64 bit (AMD64)]"
  },
  "vscode": {
   "interpreter": {
    "hash": "457ebbab75f7758647193ad21fb29327c32799ea86d603b890ff482faa44ec15"
   }
  }
 },
 "nbformat": 4,
 "nbformat_minor": 5
}
