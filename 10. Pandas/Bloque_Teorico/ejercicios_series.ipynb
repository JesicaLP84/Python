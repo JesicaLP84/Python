{
 "cells": [
  {
   "attachments": {},
   "cell_type": "markdown",
   "metadata": {},
   "source": [
    "brand = ['Camp', 'Camp', 'Petzl', 'Petzl', 'Edelrid', 'Edelrid', 'Edelrid’, 'Black Diamond', 'Black Diamond','Mammut']\n",
    "\n",
    "models = ['Energy', 'Jasper', 'Simba', 'Adjama New', 'Moe', 'Orion', 'Leaf','Xenes', 'Chaos', 'Ophir']\n",
    "\n",
    "prices = [39.90, 56.00, 45.00, 75.00, 49.90, 99.90, 65.00, 119.90, 99.90, 55.00]"
   ]
  },
  {
   "cell_type": "code",
   "execution_count": 2,
   "metadata": {},
   "outputs": [
    {
     "data": {
      "text/plain": [
       "0     39.9\n",
       "1     56.0\n",
       "2     45.0\n",
       "3     75.0\n",
       "4     49.9\n",
       "5     99.9\n",
       "6     65.0\n",
       "7    119.9\n",
       "8     99.9\n",
       "9     55.0\n",
       "dtype: float64"
      ]
     },
     "execution_count": 2,
     "metadata": {},
     "output_type": "execute_result"
    }
   ],
   "source": [
    "import pandas as pd\n",
    "from pandas import Series\n",
    "#1.Crea las listas brand, models y prices citadas anteriormente.\n",
    "brand = pd.Series(['Camp', 'Camp', 'Petzl', 'Petzl', 'Edelrid', 'Edelrid', 'Edelrid', 'Black Diamond', 'Black Diamond','Mammut'])\n",
    "models = pd.Series(['Energy', 'Jasper', 'Simba', 'Adjama New', 'Moe', 'Orion', 'Leaf','Xenes', 'Chaos', 'Ophir'])\n",
    "prices = pd.Series([39.90, 56.00, 45.00, 75.00, 49.90, 99.90, 65.00, 119.90, 99.90, 55.00])\n",
    "\n",
    "brand\n",
    "models\n",
    "prices"
   ]
  },
  {
   "cell_type": "code",
   "execution_count": 3,
   "metadata": {},
   "outputs": [
    {
     "data": {
      "text/plain": [
       "Energy         39.9\n",
       "Jasper         56.0\n",
       "Simba          45.0\n",
       "Adjama New     75.0\n",
       "Moe            49.9\n",
       "Orion          99.9\n",
       "Leaf           65.0\n",
       "Xenes         119.9\n",
       "Chaos          99.9\n",
       "Ophir          55.0\n",
       "dtype: float64"
      ]
     },
     "execution_count": 3,
     "metadata": {},
     "output_type": "execute_result"
    }
   ],
   "source": [
    "#2.Define una Series en la que models sean los índices y prices los valores\n",
    "series_def = pd.Series([39.90, 56.00, 45.00, 75.00, 49.90, 99.90, 65.00, 119.90, 99.90, 55.00], index=['Energy', 'Jasper', 'Simba', 'Adjama New', 'Moe', 'Orion', 'Leaf','Xenes', 'Chaos', 'Ophir'])\n",
    "series_def"
   ]
  },
  {
   "cell_type": "code",
   "execution_count": 4,
   "metadata": {},
   "outputs": [
    {
     "data": {
      "text/plain": [
       "Energy    39.9\n",
       "Jasper    56.0\n",
       "Simba     45.0\n",
       "Moe       49.9\n",
       "Leaf      65.0\n",
       "Ophir     55.0\n",
       "dtype: float64"
      ]
     },
     "execution_count": 4,
     "metadata": {},
     "output_type": "execute_result"
    }
   ],
   "source": [
    "#3.Muestra los modelos con el precio menor que 70 euros.\n",
    "series_def[prices.values <= 70]"
   ]
  },
  {
   "cell_type": "code",
   "execution_count": 10,
   "metadata": {},
   "outputs": [
    {
     "data": {
      "text/html": [
       "<div>\n",
       "<style scoped>\n",
       "    .dataframe tbody tr th:only-of-type {\n",
       "        vertical-align: middle;\n",
       "    }\n",
       "\n",
       "    .dataframe tbody tr th {\n",
       "        vertical-align: top;\n",
       "    }\n",
       "\n",
       "    .dataframe thead th {\n",
       "        text-align: right;\n",
       "    }\n",
       "</style>\n",
       "<table border=\"1\" class=\"dataframe\">\n",
       "  <thead>\n",
       "    <tr style=\"text-align: right;\">\n",
       "      <th></th>\n",
       "      <th>brand</th>\n",
       "      <th>models</th>\n",
       "      <th>prices</th>\n",
       "      <th>sin descuento</th>\n",
       "    </tr>\n",
       "  </thead>\n",
       "  <tbody>\n",
       "    <tr>\n",
       "      <th>0</th>\n",
       "      <td>Camp</td>\n",
       "      <td>Energy</td>\n",
       "      <td>39.900</td>\n",
       "      <td>0</td>\n",
       "    </tr>\n",
       "    <tr>\n",
       "      <th>1</th>\n",
       "      <td>Camp</td>\n",
       "      <td>Jasper</td>\n",
       "      <td>56.000</td>\n",
       "      <td>0</td>\n",
       "    </tr>\n",
       "    <tr>\n",
       "      <th>2</th>\n",
       "      <td>Petzl</td>\n",
       "      <td>Simba</td>\n",
       "      <td>45.000</td>\n",
       "      <td>0</td>\n",
       "    </tr>\n",
       "    <tr>\n",
       "      <th>3</th>\n",
       "      <td>Petzl</td>\n",
       "      <td>Adjama New</td>\n",
       "      <td>75.000</td>\n",
       "      <td>0</td>\n",
       "    </tr>\n",
       "    <tr>\n",
       "      <th>4</th>\n",
       "      <td>Edelrid</td>\n",
       "      <td>Moe</td>\n",
       "      <td>44.910</td>\n",
       "      <td>0</td>\n",
       "    </tr>\n",
       "    <tr>\n",
       "      <th>5</th>\n",
       "      <td>Edelrid</td>\n",
       "      <td>Orion</td>\n",
       "      <td>89.991</td>\n",
       "      <td>0</td>\n",
       "    </tr>\n",
       "    <tr>\n",
       "      <th>6</th>\n",
       "      <td>Edelrid</td>\n",
       "      <td>Leaf</td>\n",
       "      <td>58.500</td>\n",
       "      <td>0</td>\n",
       "    </tr>\n",
       "    <tr>\n",
       "      <th>7</th>\n",
       "      <td>Black Diamond</td>\n",
       "      <td>Xenes</td>\n",
       "      <td>119.900</td>\n",
       "      <td>0</td>\n",
       "    </tr>\n",
       "    <tr>\n",
       "      <th>8</th>\n",
       "      <td>Black Diamond</td>\n",
       "      <td>Chaos</td>\n",
       "      <td>89.991</td>\n",
       "      <td>0</td>\n",
       "    </tr>\n",
       "    <tr>\n",
       "      <th>9</th>\n",
       "      <td>Mammut</td>\n",
       "      <td>Ophir</td>\n",
       "      <td>55.000</td>\n",
       "      <td>0</td>\n",
       "    </tr>\n",
       "  </tbody>\n",
       "</table>\n",
       "</div>"
      ],
      "text/plain": [
       "           brand      models   prices  sin descuento\n",
       "0           Camp      Energy   39.900              0\n",
       "1           Camp      Jasper   56.000              0\n",
       "2          Petzl       Simba   45.000              0\n",
       "3          Petzl  Adjama New   75.000              0\n",
       "4        Edelrid         Moe   44.910              0\n",
       "5        Edelrid       Orion   89.991              0\n",
       "6        Edelrid        Leaf   58.500              0\n",
       "7  Black Diamond       Xenes  119.900              0\n",
       "8  Black Diamond       Chaos   89.991              0\n",
       "9         Mammut       Ophir   55.000              0"
      ]
     },
     "execution_count": 10,
     "metadata": {},
     "output_type": "execute_result"
    }
   ],
   "source": [
    "#4.Define una nueva Series que contenta el precio original para todos los productos excepto para la marca (brand) “Edelrid”, a la que hay que realizarle el 10% de descuento.\n",
    "import numpy as np\n",
    "series_new = pd.DataFrame({ 'brand' : brand,\n",
    "    'models' : models,\n",
    "    'prices' : prices\n",
    "}, columns=['brand', 'models','prices'])\n",
    "\n",
    "\n",
    "# series_new['descuento'] = series_new['prices']*0.90\n",
    "series_new['prices']=series_new['prices'].replace([49.9,99.9,65.0],[49.9*0.9,99.99*0.9, 65*0.9])\n",
    "\n",
    "# series_new['descuento'] = series_new[prices.values == 49.9 and prices.values == 99.99 and prices.values == 65.0]*0.90\n",
    "series_new['sin descuento'] = 0#AGREGAR UNA COLUMNA NUEVA CON VALOR CERO\n",
    "\n",
    "series_new\n",
    "\n",
    "# df_employees[df_employees['telephone'].str.contains('57')]\n",
    "#ESTO SON APUNTES MIOS\n",
    "# series_new.loc[[4,5,6],['brand','prices','descuento']] #aqui selecciono solo los datos necesarios para mostrar por ejemplo con el descuento\n",
    "\n",
    "\n",
    "\n"
   ]
  }
 ],
 "metadata": {
  "kernelspec": {
   "display_name": "Python 3",
   "language": "python",
   "name": "python3"
  },
  "language_info": {
   "codemirror_mode": {
    "name": "ipython",
    "version": 3
   },
   "file_extension": ".py",
   "mimetype": "text/x-python",
   "name": "python",
   "nbconvert_exporter": "python",
   "pygments_lexer": "ipython3",
   "version": "3.11.1 (tags/v3.11.1:a7a450f, Dec  6 2022, 19:58:39) [MSC v.1934 64 bit (AMD64)]"
  },
  "orig_nbformat": 4,
  "vscode": {
   "interpreter": {
    "hash": "c812eb984687e98b7686c463c3fae2045e58b2a2b4e065b3dcebe3cb7d51662e"
   }
  }
 },
 "nbformat": 4,
 "nbformat_minor": 2
}
