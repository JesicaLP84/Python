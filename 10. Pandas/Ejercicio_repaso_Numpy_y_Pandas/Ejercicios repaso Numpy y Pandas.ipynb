{
 "cells": [
  {
   "cell_type": "markdown",
   "id": "8b2d3ec1",
   "metadata": {},
   "source": [
    "## Repaso Numpy y Pandas"
   ]
  },
  {
   "cell_type": "code",
   "execution_count": 1,
   "id": "5a2d9873",
   "metadata": {},
   "outputs": [
    {
     "data": {
      "text/plain": [
       "array([[100, 110],\n",
       "       [120, 130],\n",
       "       [140, 150],\n",
       "       [160, 170],\n",
       "       [180, 190]])"
      ]
     },
     "execution_count": 1,
     "metadata": {},
     "output_type": "execute_result"
    }
   ],
   "source": [
    "import numpy as np\n",
    "import pandas as pd\n",
    "#1. Crea un array de 5x2 con los valores desde 100 hasta 200 de 10 en 10\n",
    "five_tow= np.array(np.arange(100,200,10))\n",
    "five_tow.reshape(5,2)\n",
    "\n",
    "\n"
   ]
  },
  {
   "cell_type": "code",
   "execution_count": 2,
   "id": "19a870c6",
   "metadata": {},
   "outputs": [
    {
     "name": "stdout",
     "output_type": "stream",
     "text": [
      "[[100 110 120]\n",
      " [130 140 150]\n",
      " [160 170 180]]\n"
     ]
    }
   ],
   "source": [
    "#2. Redimensiona el array a 3x3 (se debe de eliminar el último elemento)\n",
    "three_three= np.delete(five_tow,-1) #delete the last item\n",
    "prueba=three_three.reshape(3,3)\n",
    "print(prueba)\n"
   ]
  },
  {
   "cell_type": "code",
   "execution_count": 92,
   "id": "dd26bf40",
   "metadata": {},
   "outputs": [
    {
     "name": "stdout",
     "output_type": "stream",
     "text": [
      "[120 150 180]\n"
     ]
    }
   ],
   "source": [
    "#3. Crea un array con los elementos de la tercera posición de cada fila\n",
    "third_position=prueba[:,2]\n",
    "print(third_position)"
   ]
  },
  {
   "cell_type": "code",
   "execution_count": 3,
   "id": "dfd9735c",
   "metadata": {},
   "outputs": [
    {
     "ename": "AttributeError",
     "evalue": "'numpy.ndarray' object has no attribute 'iloc'",
     "output_type": "error",
     "traceback": [
      "\u001b[1;31m---------------------------------------------------------------------------\u001b[0m",
      "\u001b[1;31mAttributeError\u001b[0m                            Traceback (most recent call last)",
      "\u001b[1;32m~\\AppData\\Local\\Temp\\ipykernel_12784\\132891902.py\u001b[0m in \u001b[0;36m<module>\u001b[1;34m\u001b[0m\n\u001b[0;32m      1\u001b[0m \u001b[1;31m#4. Muestra los elementos de las filas de posición par y columna de posición impar\u001b[0m\u001b[1;33m\u001b[0m\u001b[1;33m\u001b[0m\u001b[0m\n\u001b[1;32m----> 2\u001b[1;33m \u001b[0mprueba\u001b[0m\u001b[1;33m.\u001b[0m\u001b[0miloc\u001b[0m\u001b[1;33m[\u001b[0m\u001b[1;36m0\u001b[0m\u001b[1;33m:\u001b[0m\u001b[1;36m5\u001b[0m\u001b[1;33m]\u001b[0m \u001b[1;31m# Primeras cinco filas\u001b[0m\u001b[1;33m\u001b[0m\u001b[1;33m\u001b[0m\u001b[0m\n\u001b[0m\u001b[0;32m      3\u001b[0m \u001b[0mprueba\u001b[0m\u001b[1;33m.\u001b[0m\u001b[0miloc\u001b[0m\u001b[1;33m[\u001b[0m\u001b[1;33m:\u001b[0m\u001b[1;33m,\u001b[0m \u001b[1;36m0\u001b[0m\u001b[1;33m:\u001b[0m\u001b[1;36m5\u001b[0m\u001b[1;33m]\u001b[0m \u001b[1;31m# Primeras cinco columnas\u001b[0m\u001b[1;33m\u001b[0m\u001b[1;33m\u001b[0m\u001b[0m\n\u001b[0;32m      4\u001b[0m \u001b[0mprueba\u001b[0m\u001b[1;33m.\u001b[0m\u001b[0miloc\u001b[0m\u001b[1;33m[\u001b[0m\u001b[1;33m[\u001b[0m\u001b[1;36m0\u001b[0m\u001b[1;33m,\u001b[0m\u001b[1;36m2\u001b[0m\u001b[1;33m,\u001b[0m\u001b[1;36m1\u001b[0m\u001b[1;33m]\u001b[0m\u001b[1;33m]\u001b[0m  \u001b[1;31m# Primera, tercera y segunda filas\u001b[0m\u001b[1;33m\u001b[0m\u001b[1;33m\u001b[0m\u001b[0m\n\u001b[0;32m      5\u001b[0m \u001b[0mprueba\u001b[0m\u001b[1;33m.\u001b[0m\u001b[0miloc\u001b[0m\u001b[1;33m[\u001b[0m\u001b[1;33m:\u001b[0m\u001b[1;33m,\u001b[0m \u001b[1;33m[\u001b[0m\u001b[1;36m0\u001b[0m\u001b[1;33m,\u001b[0m\u001b[1;36m2\u001b[0m\u001b[1;33m,\u001b[0m\u001b[1;36m1\u001b[0m\u001b[1;33m]\u001b[0m\u001b[1;33m]\u001b[0m  \u001b[1;31m# Primera, tercera y segunda columnas\u001b[0m\u001b[1;33m\u001b[0m\u001b[1;33m\u001b[0m\u001b[0m\n",
      "\u001b[1;31mAttributeError\u001b[0m: 'numpy.ndarray' object has no attribute 'iloc'"
     ]
    }
   ],
   "source": [
    "#4. Muestra los elementos de las filas de posición par y columna de posición impar\n",
    "prueba.iloc[0:5] # Primeras cinco filas\n",
    "prueba.iloc[:, 0:5] # Primeras cinco columnas\n",
    "prueba.iloc[[0,2,1]]  # Primera, tercera y segunda filas\n",
    "prueba.iloc[:, [0,2,1]]  # Primera, tercera y segunda columnas"
   ]
  },
  {
   "cell_type": "code",
   "execution_count": null,
   "id": "49ace05f",
   "metadata": {},
   "outputs": [],
   "source": [
    "#5. Crea dos arrays de 2x3. Posteriormente suma los dos arrays y a su resultado eleva al cuadrado cada elemento"
   ]
  },
  {
   "cell_type": "code",
   "execution_count": null,
   "id": "8798bd1e",
   "metadata": {},
   "outputs": [],
   "source": [
    "#6. Crea un array de 8x3. Posteriormente dividelo en 4 subarrays"
   ]
  },
  {
   "cell_type": "code",
   "execution_count": null,
   "id": "6d159453",
   "metadata": {},
   "outputs": [],
   "source": [
    "#7. Dado un array de 3x3. Crea un nuevo array con este ordenado por la 2ª fila y otro array con este array ordenado por la 2ª columna"
   ]
  },
  {
   "cell_type": "code",
   "execution_count": null,
   "id": "5c97d5c8",
   "metadata": {},
   "outputs": [],
   "source": [
    "#8. Dado un array de 3x3. Devuelve sus mínimos de cada columna y el máximo de cada fila"
   ]
  },
  {
   "cell_type": "code",
   "execution_count": null,
   "id": "0b9e30cf",
   "metadata": {},
   "outputs": [],
   "source": [
    "#9. Dado un array de 3x3 elimina su 2ª columna y añadela al inicio"
   ]
  },
  {
   "cell_type": "code",
   "execution_count": null,
   "id": "c8f1cba2",
   "metadata": {},
   "outputs": [],
   "source": [
    "#10. Crea un DataFrame con la información de *coches.csv*"
   ]
  },
  {
   "cell_type": "code",
   "execution_count": null,
   "id": "19bf2ab9",
   "metadata": {},
   "outputs": [],
   "source": [
    "#11. Muestra la compañía que tenga el coche más caro"
   ]
  },
  {
   "cell_type": "code",
   "execution_count": null,
   "id": "f3a044b0",
   "metadata": {},
   "outputs": [],
   "source": [
    "#12. Muestra todos los coches de Toyota"
   ]
  },
  {
   "cell_type": "code",
   "execution_count": null,
   "id": "a7917d5d",
   "metadata": {},
   "outputs": [],
   "source": [
    "#13. Muestra cuántos coches tiene cada compañía"
   ]
  },
  {
   "cell_type": "code",
   "execution_count": null,
   "id": "529332e2",
   "metadata": {},
   "outputs": [],
   "source": [
    "#14. Muestra todas las compañías con su precio más caro"
   ]
  },
  {
   "cell_type": "code",
   "execution_count": null,
   "id": "5701b828",
   "metadata": {},
   "outputs": [],
   "source": [
    "#15. Calcula la media de kilometros de cada compañía"
   ]
  },
  {
   "cell_type": "code",
   "execution_count": null,
   "id": "a6b777cb",
   "metadata": {},
   "outputs": [],
   "source": [
    "#16. Ordena los coches por precio"
   ]
  }
 ],
 "metadata": {
  "kernelspec": {
   "display_name": "base",
   "language": "python",
   "name": "python3"
  },
  "language_info": {
   "codemirror_mode": {
    "name": "ipython",
    "version": 3
   },
   "file_extension": ".py",
   "mimetype": "text/x-python",
   "name": "python",
   "nbconvert_exporter": "python",
   "pygments_lexer": "ipython3",
   "version": "3.9.13 (main, Aug 25 2022, 23:51:50) [MSC v.1916 64 bit (AMD64)]"
  },
  "vscode": {
   "interpreter": {
    "hash": "e06ff7da33dc9620448857a90ad8b5f428f0d573d205a934d2841c8aee45ea32"
   }
  }
 },
 "nbformat": 4,
 "nbformat_minor": 5
}
