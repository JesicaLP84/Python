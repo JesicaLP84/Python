{
 "cells": [
  {
   "cell_type": "markdown",
   "metadata": {},
   "source": [
    "• line1 = “Es mi primera línea.”\n",
    "• line2 = “Es mi segunda línea.”\n",
    "• line3 = “Es mi tercera línea.”\n",
    "• line4 = “¡Es el final del fichero!”"
   ]
  },
  {
   "cell_type": "code",
   "execution_count": 46,
   "metadata": {},
   "outputs": [],
   "source": [
    "#1. Crea un fichero vacío llamado primerfichero.txt sin usar with.\n",
    "writing_File = open('firstFile.txt', 'w').close"
   ]
  },
  {
   "cell_type": "code",
   "execution_count": 47,
   "metadata": {},
   "outputs": [],
   "source": [
    "#2. Crea un segundo fichero vacío llamado segundofichero.txt usando with.\n",
    "with open('secondFile.txt','w') as file_second:\n",
    "    file_second.write('File Finally')"
   ]
  },
  {
   "cell_type": "code",
   "execution_count": 49,
   "metadata": {},
   "outputs": [],
   "source": [
    "#3. Escribe line1 en primerfichero.txt\n",
    "with open(\"firstFile.txt\", 'w') as writing_File:\n",
    "    writing_File.write(\"line1\\n\")"
   ]
  },
  {
   "cell_type": "code",
   "execution_count": 50,
   "metadata": {},
   "outputs": [],
   "source": [
    "#4. Escribe line2, line3 y line4 en segundofichero.txt cada uno en una línea.\n",
    "with open(\"secondfile.txt\",'w') as file_second:\n",
    "    file_second.write(\"line2\\n\")\n",
    "    file_second.write(\"line3\\n\")\n",
    "    file_second.write(\"line4\\n\")"
   ]
  },
  {
   "cell_type": "code",
   "execution_count": 51,
   "metadata": {},
   "outputs": [
    {
     "name": "stdout",
     "output_type": "stream",
     "text": [
      "line1\n",
      "\n",
      "line2\n",
      "line3\n",
      "line4\n",
      "line1\n"
     ]
    }
   ],
   "source": [
    "#5. Lee primerfichero.txt y añade su contenido al final de segundofichero.txt.\n",
    "with open('firstFile.txt', 'r') as writing_File:\n",
    "    print(writing_File.read())\n",
    "\n",
    "with open('secondfile.txt','a') as file_second:\n",
    "    file_second.write(\"line1\")\n",
    "\n",
    "with open('secondfile.txt','r') as file_second:\n",
    "    print(file_second.read())\n"
   ]
  }
 ],
 "metadata": {
  "kernelspec": {
   "display_name": "Python 3",
   "language": "python",
   "name": "python3"
  },
  "language_info": {
   "codemirror_mode": {
    "name": "ipython",
    "version": 3
   },
   "file_extension": ".py",
   "mimetype": "text/x-python",
   "name": "python",
   "nbconvert_exporter": "python",
   "pygments_lexer": "ipython3",
   "version": "3.11.1 (tags/v3.11.1:a7a450f, Dec  6 2022, 19:58:39) [MSC v.1934 64 bit (AMD64)]"
  },
  "orig_nbformat": 4,
  "vscode": {
   "interpreter": {
    "hash": "457ebbab75f7758647193ad21fb29327c32799ea86d603b890ff482faa44ec15"
   }
  }
 },
 "nbformat": 4,
 "nbformat_minor": 2
}
