{
 "cells": [
  {
   "cell_type": "code",
   "execution_count": 2,
   "metadata": {},
   "outputs": [
    {
     "data": {
      "text/plain": [
       "<function __main__.showAnimal(name, n_legs)>"
      ]
     },
     "execution_count": 2,
     "metadata": {},
     "output_type": "execute_result"
    }
   ],
   "source": [
    "#1. Define una función llamada showAnimal que reciba dos argumentos name y n_legs e imprima esta información por pantalla.\n",
    "def showAnimal(name, n_legs):\n",
    "    print(name,n_legs)\n",
    "showAnimal"
   ]
  },
  {
   "cell_type": "code",
   "execution_count": 3,
   "metadata": {},
   "outputs": [
    {
     "name": "stdout",
     "output_type": "stream",
     "text": [
      "Hola JesicaLopez\n"
     ]
    }
   ],
   "source": [
    "#2. Define una función que puede recibir cualquier número de argumentos e imprima cuántos argumentos ha recibido.\n",
    "def numero_argumentos(nombre):\n",
    "    print(f'Hola {nombre}')\n",
    "numero_argumentos('Jesica''Lopez')"
   ]
  },
  {
   "cell_type": "code",
   "execution_count": 1,
   "metadata": {},
   "outputs": [
    {
     "name": "stdout",
     "output_type": "stream",
     "text": [
      "10 + 15 = 25 ; 10 - 15 = -5"
     ]
    }
   ],
   "source": [
    "#3. Define una función que recibiendo dos números, devuelva la suma y la resta de ellos en una sola llamada.\n",
    "def suma_resta(numero1, numero2):\n",
    "    print(f'{numero1} + {numero2} = {numero1 + numero2}',end= ' ; ' f'{numero1} - {numero2} = {numero1 - numero2}')\n",
    "\n",
    "suma_resta(10,15)\n"
   ]
  },
  {
   "cell_type": "code",
   "execution_count": 32,
   "metadata": {},
   "outputs": [
    {
     "name": "stdout",
     "output_type": "stream",
     "text": [
      "1375\n"
     ]
    }
   ],
   "source": [
    "#4. Define una función que recibiendo dos números devuelva la multiplicación.\n",
    "def multiplicacion(numero1 , numero2):\n",
    "    print(f'{numero1 * numero2}')\n",
    "multiplicacion(25,55)"
   ]
  },
  {
   "cell_type": "code",
   "execution_count": 36,
   "metadata": {},
   "outputs": [
    {
     "data": {
      "text/plain": [
       "1"
      ]
     },
     "execution_count": 36,
     "metadata": {},
     "output_type": "execute_result"
    }
   ],
   "source": [
    "#5. Define una función que recibiendo dos números devuelva el módulo.\n",
    "def modulo(a, b):\n",
    "    return a % b\n",
    "modulo(25,2)\n"
   ]
  },
  {
   "cell_type": "code",
   "execution_count": 68,
   "metadata": {},
   "outputs": [
    {
     "name": "stdout",
     "output_type": "stream",
     "text": [
      "24\n"
     ]
    }
   ],
   "source": [
    "#6. Define una función que recibiendo una función del ejercicio 4 o ejercicio 5 y dos valores numéricos devuelva su resultado.\n",
    "def main(): #ESta es la funcion inicial \n",
    "    multiplicacion(8,3)\n",
    "main()\n"
   ]
  },
  {
   "cell_type": "code",
   "execution_count": 4,
   "metadata": {},
   "outputs": [],
   "source": [
    "#7. Define una función que reciba el nombre y email de una persona. Si no recibe email, se asignará “Sin determinar”. La función debe imprimir el nombre y email de la persona.\n",
    "# name = input(\"Introduce tu nombre\")\n",
    "# email = input(\"Introduce tu email\")\n",
    "# def name_email(name, email):\n",
    "\n"
   ]
  },
  {
   "cell_type": "code",
   "execution_count": 8,
   "metadata": {},
   "outputs": [
    {
     "name": "stdout",
     "output_type": "stream",
     "text": [
      "None\n"
     ]
    }
   ],
   "source": [
    "#8. Define una función que recibiendo un entero positivo, irá sumando este número a su anterior hasta llegar a 0 y devolverá el resultado final.\n",
    "\n",
    "def suma_positivo(n):\n",
    "    \"\"\"Función que calcula el factorial de un número entero positivo.\n",
    "    Parámetros\n",
    "    n: Es un entero positivo.\n",
    "    Devuelve el factorial de n.\n",
    "    \"\"\"\n",
    "    tmp = 1\n",
    "    for i in range(n):\n",
    "        tmp += i + 1\n",
    "        if n == 0:\n",
    "            print(n)\n",
    "\n",
    "print(suma_positivo(5))\n",
    "# print(factorial(20))\n"
   ]
  }
 ],
 "metadata": {
  "kernelspec": {
   "display_name": "Python 3",
   "language": "python",
   "name": "python3"
  },
  "language_info": {
   "codemirror_mode": {
    "name": "ipython",
    "version": 3
   },
   "file_extension": ".py",
   "mimetype": "text/x-python",
   "name": "python",
   "nbconvert_exporter": "python",
   "pygments_lexer": "ipython3",
   "version": "3.11.1"
  },
  "orig_nbformat": 4,
  "vscode": {
   "interpreter": {
    "hash": "457ebbab75f7758647193ad21fb29327c32799ea86d603b890ff482faa44ec15"
   }
  }
 },
 "nbformat": 4,
 "nbformat_minor": 2
}
