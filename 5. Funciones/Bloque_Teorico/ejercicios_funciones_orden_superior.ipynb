{
 "cells": [
  {
   "cell_type": "code",
   "execution_count": 29,
   "metadata": {},
   "outputs": [
    {
     "name": "stdout",
     "output_type": "stream",
     "text": [
      "[4, 10, 20, 46, 100, 66]\n"
     ]
    }
   ],
   "source": [
    "#1. Define una función que devuelva una lista con el doble de todos los elementos de la lista inicial.\n",
    "numbers = [2, 5, 10, 23, 50, 33]\n",
    "result = map(lambda x: x * 2, numbers)\n",
    "print(list(result))"
   ]
  },
  {
   "cell_type": "code",
   "execution_count": 18,
   "metadata": {},
   "outputs": [
    {
     "name": "stdout",
     "output_type": "stream",
     "text": [
      "[4, 64, 16, 144, 36, 7056]\n"
     ]
    }
   ],
   "source": [
    "#2. Define una función que devuelva que eleve al cuadrado los elementos que sean pares.\n",
    "list_numbers = [2, 5, 7, 8, 4, 12, 6, 84, 15, 31, 87] ## definimos lista de numeros\n",
    "\n",
    "list_par = filter(lambda x: x % 2 == 0, list_numbers) ## filtrado de la lista de numeros para sacar los pares\n",
    "\n",
    "list_par_cuadrado = list(map(lambda x: x**2, list_par)) ## filtrado de la lista de pares para elevarlos al cuadrado\n",
    "\n",
    "print(list(list_par_cuadrado))\n"
   ]
  },
  {
   "cell_type": "code",
   "execution_count": 26,
   "metadata": {},
   "outputs": [
    {
     "name": "stdout",
     "output_type": "stream",
     "text": [
      "[4, 10, 17, 31, 54, 45]\n"
     ]
    }
   ],
   "source": [
    "#3. Define una función que dada dos listas sume los elementos de la misma posición.\n",
    "\n",
    "list_one = [2, 5, 7, 8, 4, 12, 6, 84, 15, 31, 87]\n",
    "list_tow = [2, 5, 10, 23, 50, 33]\n",
    "\n",
    "def sumar(a, b):\n",
    "    return a + b\n",
    "\n",
    "resultado = list(map(sumar, list_one, list_tow))\n",
    "print(resultado)"
   ]
  },
  {
   "cell_type": "code",
   "execution_count": 19,
   "metadata": {},
   "outputs": [
    {
     "name": "stdout",
     "output_type": "stream",
     "text": [
      "{'a': 5}\n"
     ]
    }
   ],
   "source": [
    "#4. Define una función que dado una lista de strings devuelva una lista con el número de ‘a’ que aparece en cada string.\n",
    "\n",
    "# getVocals=('hola', 'caracola','perdido','fuente','lluvia','encuentro','solucinado')\n",
    "\n",
    "def Check_Vow(string, vocales):\n",
    "    string = string.casefold()\n",
    "\n",
    "    count = {}.fromkeys(vocales, 0)\n",
    "\n",
    "    for character in string:\n",
    "        if character in count:\n",
    "            count[character] += 1\n",
    "    return count\n",
    "\n",
    "vocales = 'a'\n",
    "string = input(\"Introduce una lista de strings\")\n",
    "print (Check_Vow(string, vocales))\n",
    "\n",
    "\n"
   ]
  },
  {
   "cell_type": "code",
   "execution_count": 27,
   "metadata": {},
   "outputs": [
    {
     "name": "stdout",
     "output_type": "stream",
     "text": [
      "[-5, -9, -7, -3]\n"
     ]
    }
   ],
   "source": [
    "#5. Define una función que dado una lista sólo devuelva los elementos que son negativos.\n",
    "\n",
    "negativos = [1, 2, -5, -9, 10, -7, 12, -3]\n",
    "resul = filter(lambda x: x < 0, negativos)\n",
    "print(list(resul))"
   ]
  },
  {
   "cell_type": "code",
   "execution_count": 6,
   "metadata": {},
   "outputs": [
    {
     "name": "stdout",
     "output_type": "stream",
     "text": [
      "{'a': 7, 'e': 6, 'i': 4, 'o': 3, 'u': 1}\n"
     ]
    }
   ],
   "source": [
    "#6. Define una función que dado un string devuelva la lista de vocales que aparecen.\n",
    "def Check_Vow(string, vocales):\n",
    "    string = string.casefold()\n",
    "\n",
    "    count = {}.fromkeys(vocales, 0)\n",
    "\n",
    "    for character in string:\n",
    "        if character in count:\n",
    "            count[character] += 1\n",
    "    return count\n",
    "\n",
    "vocales = 'aeiou'\n",
    "string = input(\"Introduce un texto\")\n",
    "print (Check_Vow(string, vocales))\n"
   ]
  },
  {
   "cell_type": "code",
   "execution_count": 35,
   "metadata": {},
   "outputs": [
    {
     "name": "stdout",
     "output_type": "stream",
     "text": [
      "548064921600\n"
     ]
    }
   ],
   "source": [
    "#7. Define una función que dado una lista devuelva la multiplicación de todos los elementos.\n",
    "from functools import reduce #Importamos \n",
    "multiplicar = [2, 5, 7, 8, 4, 12, 6, 84, 15, 31, 87]\n",
    "\n",
    "solucion = reduce(lambda x, y: x * y , multiplicar)\n",
    "print(solucion)"
   ]
  },
  {
   "cell_type": "code",
   "execution_count": 56,
   "metadata": {},
   "outputs": [
    {
     "name": "stdout",
     "output_type": "stream",
     "text": [
      "5755.5\n"
     ]
    }
   ],
   "source": [
    "#8. Dado un string extraer los números que aparecen en el texto y devolver su suma.\n",
    "\n",
    "import re\n",
    "\n",
    "texto = 'Hola tengo 5325.50 euros ahorrados y quiero pagar 250 euros del curso, 150 del viaje y añadirle 30 euros de gastos controlables '\n",
    "numbers = [float(texto)for texto in re.findall(r'-?\\d+\\.?\\d*', texto)]\n",
    "\n",
    "resultado_suma = reduce(lambda x, y: x + y, numbers )\n",
    "print(resultado_suma)\n",
    "\n"
   ]
  }
 ],
 "metadata": {
  "kernelspec": {
   "display_name": "Python 3",
   "language": "python",
   "name": "python3"
  },
  "language_info": {
   "codemirror_mode": {
    "name": "ipython",
    "version": 3
   },
   "file_extension": ".py",
   "mimetype": "text/x-python",
   "name": "python",
   "nbconvert_exporter": "python",
   "pygments_lexer": "ipython3",
   "version": "3.11.0 (main, Oct 24 2022, 18:26:48) [MSC v.1933 64 bit (AMD64)]"
  },
  "orig_nbformat": 4,
  "vscode": {
   "interpreter": {
    "hash": "457ebbab75f7758647193ad21fb29327c32799ea86d603b890ff482faa44ec15"
   }
  }
 },
 "nbformat": 4,
 "nbformat_minor": 2
}
