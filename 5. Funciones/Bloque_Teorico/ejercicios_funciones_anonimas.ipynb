{
 "cells": [
  {
   "cell_type": "code",
   "execution_count": 1,
   "metadata": {},
   "outputs": [
    {
     "name": "stdout",
     "output_type": "stream",
     "text": [
      "4\n"
     ]
    }
   ],
   "source": [
    "#1. Define una función lambda que calcule el cuadrado de un número\n",
    "square = lambda num: num*num\n",
    "print(square(2))"
   ]
  },
  {
   "cell_type": "code",
   "execution_count": 21,
   "metadata": {},
   "outputs": [
    {
     "name": "stdout",
     "output_type": "stream",
     "text": [
      "False\n",
      "4\n"
     ]
    }
   ],
   "source": [
    "#2. Define una función lambda que devuelva True si el cuadrado de un número es mayor que 999 si no devuelve False.\n",
    "square_num = lambda num : num * num\n",
    "\n",
    "if square_num(2) > 999:\n",
    "    print(\"True\")\n",
    "else:\n",
    "    print(\"False\")\n",
    "print(square_num(2))"
   ]
  },
  {
   "cell_type": "code",
   "execution_count": 23,
   "metadata": {},
   "outputs": [
    {
     "name": "stdout",
     "output_type": "stream",
     "text": [
      "6\n"
     ]
    }
   ],
   "source": [
    "#3. Define una función lambda que reciba dos números y devuelva el resultado de su multiplicación.\n",
    "multiplication = lambda a, b : a* b\n",
    "print(multiplication(2,3))\n"
   ]
  },
  {
   "cell_type": "code",
   "execution_count": 32,
   "metadata": {},
   "outputs": [
    {
     "name": "stdout",
     "output_type": "stream",
     "text": [
      "['meditar', 'disfrutar', 'formación', 'estudiar', 'python']\n"
     ]
    }
   ],
   "source": [
    "#4. Utilizando la función sorted() y lambda ordena una lista de palabras teniendo en cuenta la segunda letra de cada palabra.\n",
    "list = ['python', 'estudiar', 'meditar', 'disfrutar','formación']\n",
    "word_order = sorted(list,key=lambda x: (x[1]))\n",
    "print(word_order)\n"
   ]
  }
 ],
 "metadata": {
  "kernelspec": {
   "display_name": "Python 3",
   "language": "python",
   "name": "python3"
  },
  "language_info": {
   "codemirror_mode": {
    "name": "ipython",
    "version": 3
   },
   "file_extension": ".py",
   "mimetype": "text/x-python",
   "name": "python",
   "nbconvert_exporter": "python",
   "pygments_lexer": "ipython3",
   "version": "3.11.1"
  },
  "orig_nbformat": 4,
  "vscode": {
   "interpreter": {
    "hash": "457ebbab75f7758647193ad21fb29327c32799ea86d603b890ff482faa44ec15"
   }
  }
 },
 "nbformat": 4,
 "nbformat_minor": 2
}
