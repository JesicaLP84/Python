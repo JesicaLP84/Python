{
 "cells": [
  {
   "cell_type": "code",
   "execution_count": 6,
   "metadata": {},
   "outputs": [
    {
     "name": "stdout",
     "output_type": "stream",
     "text": [
      "2.04\n"
     ]
    }
   ],
   "source": [
    "#1. Cree una clase Vehicle que reciba el nombre, velocidad máxima y el kilometraje.\n",
    "\n",
    "class Vehicle:\n",
    "\n",
    "\n",
    "    def __init__(self, name, max_speed, mileage):\n",
    "        self.name = name\n",
    "        self. max_speed = max_speed\n",
    "        self.mileage = mileage\n",
    "\n",
    "    def tiempo_viajado(self):\n",
    "        time = self.mileage / self.max_speed\n",
    "        return time\n",
    "\n",
    "r = Vehicle('Seat', 125, 255)\n",
    "\n",
    "print(r.time_traveled())\n"
   ]
  },
  {
   "cell_type": "code",
   "execution_count": 8,
   "metadata": {},
   "outputs": [
    {
     "data": {
      "text/plain": [
       "2.5"
      ]
     },
     "execution_count": 8,
     "metadata": {},
     "output_type": "execute_result"
    }
   ],
   "source": [
    "#2. Cree una clase Bus que herede todos los métodos y variables de Vehicle.\n",
    "\n",
    "class Bus(Vehicle):\n",
    "    def time_traveled(self):\n",
    "        return super().time_traveled()\n",
    "\n",
    "my_bus = Bus('Fiat', 120, 300)\n",
    "my_bus.time_traveled()"
   ]
  },
  {
   "cell_type": "code",
   "execution_count": 2,
   "metadata": {},
   "outputs": [
    {
     "name": "stdout",
     "output_type": "stream",
     "text": [
      "la Capacidad de prueba es de 50\n",
      "None\n"
     ]
    }
   ],
   "source": [
    "#3. Cree un método a Vehicle que recibiendo la capacidad, imprima por pantalla “La capacidad de (nombre) es de(capacidad).\n",
    "class Vehicle:\n",
    "    def __init__(self, name, max_speed, mileage):\n",
    "        self.name = name\n",
    "        self. max_speed = max_speed\n",
    "        self.mileage = mileage\n",
    "\n",
    "    def time_traveled(self):\n",
    "        time = self.mileage / self.max_speed\n",
    "        return time\n",
    "\n",
    "    def capacity_vehicle(self,capacity):\n",
    "        return print (f\"la Capacidad de {self.name} es de {capacity}\")\n",
    "\n",
    "r = Vehicle('Seat', 125, 255)\n",
    "print(r.capacity_vehicle(50))\n",
    "\n"
   ]
  },
  {
   "cell_type": "code",
   "execution_count": 7,
   "metadata": {},
   "outputs": [
    {
     "name": "stdout",
     "output_type": "stream",
     "text": [
      "la Capacidad de fiat es de 50\n"
     ]
    }
   ],
   "source": [
    "#4. Cree el mismo método para Bus en el que por defecto la capacidad sea de 50.\n",
    "class Bus(Vehicle):\n",
    "    def time_traveled(self):\n",
    "        return super().time_traveled()\n",
    "\n",
    "    def capacity_vehicle(self, capacity=50):\n",
    "        return super().capacity_vehicle(capacity)\n",
    "\n",
    "my_bus = Bus('Fiat', 120, 300)\n",
    "my_bus.capacity_vehicle()\n"
   ]
  },
  {
   "cell_type": "code",
   "execution_count": 54,
   "metadata": {},
   "outputs": [],
   "source": [
    "#5. Defina la variable owner que tenga el valor “Bosonit” para todos los objetos de la clase.\n",
    "class Vehicle:\n",
    "    owner = 'Bosonit'\n",
    "    def __init__(self, name, max_speed, mileage):\n",
    "        self.name = name\n",
    "        self. max_speed = max_speed\n",
    "        self.mileage = mileage\n",
    "\n",
    "    def tiempo_viajado(self):\n",
    "        tiempo = self.mileage / self.max_speed\n",
    "        return tiempo\n",
    "\n",
    "    def capacidad_vehicle(self,capacidad):\n",
    "        return print (f\"la Capacidad de {self.name} es de {self.capacidad}\")"
   ]
  }
 ],
 "metadata": {
  "kernelspec": {
   "display_name": "Python 3",
   "language": "python",
   "name": "python3"
  },
  "language_info": {
   "codemirror_mode": {
    "name": "ipython",
    "version": 3
   },
   "file_extension": ".py",
   "mimetype": "text/x-python",
   "name": "python",
   "nbconvert_exporter": "python",
   "pygments_lexer": "ipython3",
   "version": "3.11.0 (main, Oct 24 2022, 18:26:48) [MSC v.1933 64 bit (AMD64)]"
  },
  "orig_nbformat": 4,
  "vscode": {
   "interpreter": {
    "hash": "457ebbab75f7758647193ad21fb29327c32799ea86d603b890ff482faa44ec15"
   }
  }
 },
 "nbformat": 4,
 "nbformat_minor": 2
}
