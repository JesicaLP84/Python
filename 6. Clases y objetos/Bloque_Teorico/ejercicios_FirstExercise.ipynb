{
 "cells": [
  {
   "cell_type": "code",
   "execution_count": 18,
   "metadata": {},
   "outputs": [],
   "source": [
    "#1. Define una clase vacía llamada FirstExercise.\n",
    "class FirstExercise:\n",
    "    pass\n"
   ]
  },
  {
   "cell_type": "code",
   "execution_count": 62,
   "metadata": {},
   "outputs": [],
   "source": [
    "#2. Modifica la clase anterior. La clase debe recibir obligatoriamente las variables number y chapter.\n",
    "class FirstExercise:\n",
    "    def __init__(self, number, chapter):\n",
    "        self.number = number\n",
    "        self.chapter = chapter\n"
   ]
  },
  {
   "cell_type": "code",
   "execution_count": 32,
   "metadata": {},
   "outputs": [],
   "source": [
    "#3. Instancia un objeto con los valores 6 y “Clases y objetos”.\n",
    "FirstExercise.number = 6\n",
    "FirstExercise.chapter = 'Clases y Objetos'\n",
    "\n",
    "inst_obj = FirstExercise(6, 'Claes y Objetos')"
   ]
  },
  {
   "cell_type": "code",
   "execution_count": 61,
   "metadata": {},
   "outputs": [
    {
     "name": "stdout",
     "output_type": "stream",
     "text": [
      "6\n"
     ]
    }
   ],
   "source": [
    "#4. Añade un método que imprima por pantalla el número.\n",
    "class FirstExercise:\n",
    "    def __init__(self, number, chapter):\n",
    "        self.number = number\n",
    "        self.chapter = chapter\n",
    "\n",
    "    def imprimir_pantalla(self):\n",
    "        return self.number\n",
    "\n",
    "p= FirstExercise(6, 'Clases y Objetos')\n",
    "\n",
    "print(p.imprimir_pantalla())"
   ]
  },
  {
   "cell_type": "code",
   "execution_count": 113,
   "metadata": {},
   "outputs": [
    {
     "name": "stdout",
     "output_type": "stream",
     "text": [
      "El area del Circulo es: 28.26 y El perimetro del Circulo es: 18.84\n"
     ]
    }
   ],
   "source": [
    "#5. Crea una clase Circle que dado un radio permita consultar el área, el perímetro y permita modificar el radio.\n",
    "import math\n",
    "\n",
    "class Circle:\n",
    "\n",
    "    def __init__(self,radio):\n",
    "        self.radio = radio\n",
    "\n",
    "    def area(self):\n",
    "        area = 3.14*self.radio**2\n",
    "        return area\n",
    "\n",
    "    def perimetro(self):\n",
    "        perimetro = (2 * 3.14 * self.radio)\n",
    "        return perimetro\n",
    "\n",
    "r= Circle(3)\n",
    "\n",
    "print(f'El area del Circulo es: {r.area()}'+ ' y ' + f'El perimetro del Circulo es: {r.perimetro()}')\n"
   ]
  }
 ],
 "metadata": {
  "kernelspec": {
   "display_name": "Python 3",
   "language": "python",
   "name": "python3"
  },
  "language_info": {
   "codemirror_mode": {
    "name": "ipython",
    "version": 3
   },
   "file_extension": ".py",
   "mimetype": "text/x-python",
   "name": "python",
   "nbconvert_exporter": "python",
   "pygments_lexer": "ipython3",
   "version": "3.11.0 (main, Oct 24 2022, 18:26:48) [MSC v.1933 64 bit (AMD64)]"
  },
  "orig_nbformat": 4,
  "vscode": {
   "interpreter": {
    "hash": "457ebbab75f7758647193ad21fb29327c32799ea86d603b890ff482faa44ec15"
   }
  }
 },
 "nbformat": 4,
 "nbformat_minor": 2
}
