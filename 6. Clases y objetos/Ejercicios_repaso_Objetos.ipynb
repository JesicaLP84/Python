{
 "cells": [
  {
   "attachments": {},
   "cell_type": "markdown",
   "id": "3c27cf4e",
   "metadata": {},
   "source": [
    "# Ejercicios repaso Objetos"
   ]
  },
  {
   "cell_type": "code",
   "execution_count": 12,
   "id": "d45dc88d",
   "metadata": {},
   "outputs": [
    {
     "name": "stdout",
     "output_type": "stream",
     "text": [
      "El consumo por kilometro de peugeot es de: 5\n",
      "None\n"
     ]
    }
   ],
   "source": [
    "## Ejercicio 1 \n",
    "# Crea una clase vehículo que al instanciarse se le pase la información la potencia y su consumo a los 100 km. Además, crea un método que nos devuelva el consumo por kilómetro\n",
    "class Vehicle:\n",
    "    def __init__(self, info, power, consumption, mileage):\n",
    "        self.info = info\n",
    "        self.power = power\n",
    "        self. consumption = consumption\n",
    "        self.mileage = mileage\n",
    "\n",
    "    def mileage_consumption(self, fuel):\n",
    "        mileage_consumption = (fuel / self.mileage) * 100\n",
    "        return print (f\"El consumo por kilometro de {self.info} es de: {fuel}\")\n",
    "\n",
    "r = Vehicle('peugeot', 120, 10, 200)\n",
    "\n",
    "print(r.mileage_consumption(5))"
   ]
  },
  {
   "cell_type": "code",
   "execution_count": null,
   "id": "d57993aa",
   "metadata": {},
   "outputs": [],
   "source": [
    "## Ejercicio 2\n",
    "# Crear una clase coche que herede de la clase vehículo. Se añaden los atributos numero de puertas y tipo de gasolina.\n",
    "class car(Vehicle):\n",
    "    def __init__(self, info, power, consumption, mileage, num_door, type_gasoline):\n",
    "        super().__init__(info, power, consumption, mileage, num_door, type_gasoline)\n"
   ]
  },
  {
   "cell_type": "code",
   "execution_count": null,
   "id": "c88de038",
   "metadata": {},
   "outputs": [],
   "source": [
    "## Ejercicio 3\n",
    "#Crear mediante la utilización de clases un sistema capaz de lidiar con vectores en 2D, es decir, con el que podamos calcular el producto escalar de dos vectores,\n",
    "#el coseno del ángulo entre dos vectores y con el que podamos sumar y restar vectores (además de compararlos entre sí en términos de módulo).\n",
    "#Definir las funciones de producto como métodos de un vector al que se le pasa otro vector.(Se pueden definir las funciones $__lt__$ y $__gt__$).\n",
    "class vectors:\n",
    "    \n",
    "    def __lt__(self):\n",
    "        dfdf()\n",
    "\n",
    "    def __gt__(self):"
   ]
  },
  {
   "cell_type": "code",
   "execution_count": null,
   "id": "28f5f9ee",
   "metadata": {},
   "outputs": [],
   "source": [
    "## Ejercicio 4\n",
    "# Crear un objeto de tipo rectángulo, que tenga la posibilidad de devolver el area y el perímetro. Además, tendrá que poder comparar rectángulos entre sí (la igualdad será igualdad total \n",
    "# y las comparaciones se realizarán en términos de área). Tambien implementar si un rectángulo está contenido en otro.\n",
    "# Para hacerlo más sencillo, definir el rectángulo como un origen en el plano x e y , la longitud del lado horizontal y la longitud del lado vertical (es decir, no trabajaremos con rectángulos \n",
    "# que no tengan un lado paralelo al eje X. Además, supondremos que el origen dado es la esquina inferior izquierda."
   ]
  },
  {
   "cell_type": "code",
   "execution_count": null,
   "id": "d0e9df2a",
   "metadata": {},
   "outputs": [],
   "source": [
    "class rectangulo:\n",
    "    def __init__(self, origen_x, origen_y, lado_h, lado_v):\n",
    "        self.x1 = origen_x\n"
   ]
  },
  {
   "cell_type": "code",
   "execution_count": null,
   "id": "346840fb",
   "metadata": {},
   "outputs": [],
   "source": [
    "## Ejercicio 5\n",
    "# Crear una clase de tipo círculo dando el centro y el radio. Crear los métodos necesarios para calcular el area, el perímetro, un método para poder comprobar \n",
    "# si un punto está en su interior y un método que modifique el círculo para introducir un punto en su interior."
   ]
  }
 ],
 "metadata": {
  "kernelspec": {
   "display_name": "Python 3",
   "language": "python",
   "name": "python3"
  },
  "language_info": {
   "codemirror_mode": {
    "name": "ipython",
    "version": 3
   },
   "file_extension": ".py",
   "mimetype": "text/x-python",
   "name": "python",
   "nbconvert_exporter": "python",
   "pygments_lexer": "ipython3",
   "version": "3.11.1 (tags/v3.11.1:a7a450f, Dec  6 2022, 19:58:39) [MSC v.1934 64 bit (AMD64)]"
  },
  "vscode": {
   "interpreter": {
    "hash": "457ebbab75f7758647193ad21fb29327c32799ea86d603b890ff482faa44ec15"
   }
  }
 },
 "nbformat": 4,
 "nbformat_minor": 5
}
